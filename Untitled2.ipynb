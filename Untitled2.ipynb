{
 "cells": [
  {
   "cell_type": "code",
   "execution_count": 1,
   "metadata": {},
   "outputs": [],
   "source": [
    "def solution(br, we, tr):\n",
    "    answer = 0\n",
    "    time = 0\n",
    "    tr.sort(reverse = True)\n",
    "    wait = tr\n",
    "    on_br = []\n",
    "    on_time = []\n",
    "    through = []\n",
    "    while True:\n",
    "        time += 1\n",
    "        for i in wait:\n",
    "            if sum(on_br) < we:\n",
    "                if sum(on_br) + i < we:\n",
    "                    on_br.append(i)\n",
    "                    on_time.append(time)\n",
    "                \n",
    "        if on_time[0] + br == time:\n",
    "            through.append(on_br.pop(0))\n",
    "            on_time.pop(0)\n",
    "\n",
    "    return time"
   ]
  },
  {
   "cell_type": "code",
   "execution_count": null,
   "metadata": {},
   "outputs": [],
   "source": []
  }
 ],
 "metadata": {
  "kernelspec": {
   "display_name": "Python 3",
   "language": "python",
   "name": "python3"
  },
  "language_info": {
   "codemirror_mode": {
    "name": "ipython",
    "version": 3
   },
   "file_extension": ".py",
   "mimetype": "text/x-python",
   "name": "python",
   "nbconvert_exporter": "python",
   "pygments_lexer": "ipython3",
   "version": "3.7.4"
  }
 },
 "nbformat": 4,
 "nbformat_minor": 2
}
