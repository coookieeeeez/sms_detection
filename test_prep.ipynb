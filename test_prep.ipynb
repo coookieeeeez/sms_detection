{
 "cells": [
  {
   "cell_type": "code",
   "execution_count": 1,
   "metadata": {},
   "outputs": [],
   "source": [
    "import pandas as pd\n",
    "import matplotlib.pyplot as plt\n",
    "import seaborn as sns\n",
    "import re\n",
    "import math\n",
    "import time, datetime\n",
    "import scipy\n",
    "import lightgbm\n",
    "\n",
    "#띄어쓰기\n",
    "from pycrfsuite_spacing import TemplateGenerator\n",
    "from pycrfsuite_spacing import CharacterFeatureTransformer\n",
    "from pycrfsuite_spacing import PyCRFSuiteSpacing\n",
    "from soyspacing.countbase import CountSpace\n",
    "\n",
    "from sklearn.model_selection import train_test_split\n",
    "from sklearn.feature_extraction.text import CountVectorizer\n",
    "from sklearn.feature_extraction.text import TfidfTransformer\n",
    "from sklearn.naive_bayes import MultinomialNB # 다항분포 나이브 베이즈 모델\n",
    "from sklearn.metrics import accuracy_score #정확도 계산\n",
    "from scipy.sparse import hstack"
   ]
  },
  {
   "cell_type": "markdown",
   "metadata": {},
   "source": [
    "# 데이터 체크"
   ]
  },
  {
   "cell_type": "code",
   "execution_count": 2,
   "metadata": {},
   "outputs": [],
   "source": [
    "train = pd.read_csv(\"C:/cook/dacon/public_test.csv\") ## test"
   ]
  },
  {
   "cell_type": "code",
   "execution_count": 3,
   "metadata": {},
   "outputs": [
    {
     "data": {
      "text/plain": [
       "Index(['id', 'year_month', 'text'], dtype='object')"
      ]
     },
     "execution_count": 3,
     "metadata": {},
     "output_type": "execute_result"
    }
   ],
   "source": [
    "train.columns"
   ]
  },
  {
   "cell_type": "code",
   "execution_count": 4,
   "metadata": {},
   "outputs": [
    {
     "data": {
      "text/plain": [
       "RangeIndex(start=0, stop=1626, step=1)"
      ]
     },
     "execution_count": 4,
     "metadata": {},
     "output_type": "execute_result"
    }
   ],
   "source": [
    "train.index"
   ]
  },
  {
   "cell_type": "code",
   "execution_count": 5,
   "metadata": {
    "scrolled": true
   },
   "outputs": [
    {
     "data": {
      "text/html": [
       "<div>\n",
       "<style scoped>\n",
       "    .dataframe tbody tr th:only-of-type {\n",
       "        vertical-align: middle;\n",
       "    }\n",
       "\n",
       "    .dataframe tbody tr th {\n",
       "        vertical-align: top;\n",
       "    }\n",
       "\n",
       "    .dataframe thead th {\n",
       "        text-align: right;\n",
       "    }\n",
       "</style>\n",
       "<table border=\"1\" class=\"dataframe\">\n",
       "  <thead>\n",
       "    <tr style=\"text-align: right;\">\n",
       "      <th></th>\n",
       "      <th>id</th>\n",
       "      <th>year_month</th>\n",
       "      <th>text</th>\n",
       "    </tr>\n",
       "  </thead>\n",
       "  <tbody>\n",
       "    <tr>\n",
       "      <td>0</td>\n",
       "      <td>340000</td>\n",
       "      <td>2019-01</td>\n",
       "      <td>XXX고객님! 안녕하세요? 새롭게 시작하는 한 주 행복 가득하시길 기원합니다. 지난...</td>\n",
       "    </tr>\n",
       "    <tr>\n",
       "      <td>1</td>\n",
       "      <td>340001</td>\n",
       "      <td>2019-01</td>\n",
       "      <td>긴급 안내  XXX은행 가락동 지점  - 헬리오XXX 기본XXX    대출이자를 ...</td>\n",
       "    </tr>\n",
       "    <tr>\n",
       "      <td>2</td>\n",
       "      <td>340002</td>\n",
       "      <td>2019-01</td>\n",
       "      <td>XXX 고객님 안녕하세요올해는 미세먼지가 유난인거 같습니다.엊그제 새해가 시작된거같...</td>\n",
       "    </tr>\n",
       "    <tr>\n",
       "      <td>3</td>\n",
       "      <td>340003</td>\n",
       "      <td>2019-01</td>\n",
       "      <td>XXX 고객님찾아온 행운을 잡으셨나요? 못잡으셨다면 이번에 다시 잡으시길 기원합니다...</td>\n",
       "    </tr>\n",
       "    <tr>\n",
       "      <td>4</td>\n",
       "      <td>340004</td>\n",
       "      <td>2019-01</td>\n",
       "      <td>XXX 고객님새해 복 많이 받으세요 XXX은행 코스트코 퇴직연금 담당자입니다.  고...</td>\n",
       "    </tr>\n",
       "  </tbody>\n",
       "</table>\n",
       "</div>"
      ],
      "text/plain": [
       "       id year_month                                               text\n",
       "0  340000    2019-01  XXX고객님! 안녕하세요? 새롭게 시작하는 한 주 행복 가득하시길 기원합니다. 지난...\n",
       "1  340001    2019-01   긴급 안내  XXX은행 가락동 지점  - 헬리오XXX 기본XXX    대출이자를 ...\n",
       "2  340002    2019-01  XXX 고객님 안녕하세요올해는 미세먼지가 유난인거 같습니다.엊그제 새해가 시작된거같...\n",
       "3  340003    2019-01  XXX 고객님찾아온 행운을 잡으셨나요? 못잡으셨다면 이번에 다시 잡으시길 기원합니다...\n",
       "4  340004    2019-01  XXX 고객님새해 복 많이 받으세요 XXX은행 코스트코 퇴직연금 담당자입니다.  고..."
      ]
     },
     "execution_count": 5,
     "metadata": {},
     "output_type": "execute_result"
    }
   ],
   "source": [
    "train.head()"
   ]
  },
  {
   "cell_type": "markdown",
   "metadata": {},
   "source": [
    "# 분석 시작"
   ]
  },
  {
   "cell_type": "code",
   "execution_count": 6,
   "metadata": {},
   "outputs": [
    {
     "name": "stdout",
     "output_type": "stream",
     "text": [
      "2019-01 2019-04\n"
     ]
    }
   ],
   "source": [
    "print(train['year_month'].min(), train['year_month'].max())"
   ]
  },
  {
   "cell_type": "code",
   "execution_count": 7,
   "metadata": {},
   "outputs": [
    {
     "data": {
      "text/plain": [
       "(array([299.,   0.,   0.,   0.,   0.,   0.,   0.,   0., 332.,   0.,   0.,\n",
       "          0.,   0.,   0.,   0.,   0., 459.,   0.,   0.,   0.,   0.,   0.,\n",
       "          0., 536.]),\n",
       " array([0.   , 0.125, 0.25 , 0.375, 0.5  , 0.625, 0.75 , 0.875, 1.   ,\n",
       "        1.125, 1.25 , 1.375, 1.5  , 1.625, 1.75 , 1.875, 2.   , 2.125,\n",
       "        2.25 , 2.375, 2.5  , 2.625, 2.75 , 2.875, 3.   ]),\n",
       " <a list of 24 Patch objects>)"
      ]
     },
     "execution_count": 7,
     "metadata": {},
     "output_type": "execute_result"
    },
    {
     "data": {
      "image/png": "[encoded data removed]",
      "text/plain": [
       "<Figure size 432x288 with 1 Axes>"
      ]
     },
     "metadata": {
      "needs_background": "light"
     },
     "output_type": "display_data"
    }
   ],
   "source": [
    "plt.hist(train['year_month'], bins=24)"
   ]
  },
  {
   "cell_type": "code",
   "execution_count": 8,
   "metadata": {},
   "outputs": [],
   "source": [
    "date = []\n",
    "p = re.compile('2017-')\n",
    "q = re.compile('2018-')\n",
    "for i in train['year_month']:\n",
    "    if p.match(i):\n",
    "        date.append(int(i.replace(\"2017-\", \"\")))\n",
    "    elif q.match(i):\n",
    "        date.append(int(i.replace(\"2018-\", \"\")) + 12)\n",
    "    else:\n",
    "        date.append(int(i.replace(\"2019-\", \"\")) + 24)"
   ]
  },
  {
   "cell_type": "code",
   "execution_count": 9,
   "metadata": {},
   "outputs": [],
   "source": [
    "season = list(range(0,len(date)))\n",
    "for i in range(0,len(date)):\n",
    "    season[i] = math.ceil(date[i] / 3)\n",
    "train[\"season\"] = season"
   ]
  },
  {
   "cell_type": "markdown",
   "metadata": {},
   "source": [
    "# 텍스트 길이 분석"
   ]
  },
  {
   "cell_type": "code",
   "execution_count": 10,
   "metadata": {},
   "outputs": [],
   "source": [
    "length_x = [] # 스미싱 문자\n",
    "\n",
    "for i in train['text']:\n",
    "    length_x.append(len(i))    "
   ]
  },
  {
   "cell_type": "code",
   "execution_count": 11,
   "metadata": {},
   "outputs": [
    {
     "data": {
      "text/html": [
       "<div>\n",
       "<style scoped>\n",
       "    .dataframe tbody tr th:only-of-type {\n",
       "        vertical-align: middle;\n",
       "    }\n",
       "\n",
       "    .dataframe tbody tr th {\n",
       "        vertical-align: top;\n",
       "    }\n",
       "\n",
       "    .dataframe thead th {\n",
       "        text-align: right;\n",
       "    }\n",
       "</style>\n",
       "<table border=\"1\" class=\"dataframe\">\n",
       "  <thead>\n",
       "    <tr style=\"text-align: right;\">\n",
       "      <th></th>\n",
       "      <th>0</th>\n",
       "    </tr>\n",
       "  </thead>\n",
       "  <tbody>\n",
       "    <tr>\n",
       "      <td>count</td>\n",
       "      <td>1626.000000</td>\n",
       "    </tr>\n",
       "    <tr>\n",
       "      <td>mean</td>\n",
       "      <td>320.535670</td>\n",
       "    </tr>\n",
       "    <tr>\n",
       "      <td>std</td>\n",
       "      <td>251.631687</td>\n",
       "    </tr>\n",
       "    <tr>\n",
       "      <td>min</td>\n",
       "      <td>4.000000</td>\n",
       "    </tr>\n",
       "    <tr>\n",
       "      <td>25%</td>\n",
       "      <td>130.250000</td>\n",
       "    </tr>\n",
       "    <tr>\n",
       "      <td>50%</td>\n",
       "      <td>230.500000</td>\n",
       "    </tr>\n",
       "    <tr>\n",
       "      <td>75%</td>\n",
       "      <td>443.750000</td>\n",
       "    </tr>\n",
       "    <tr>\n",
       "      <td>max</td>\n",
       "      <td>1155.000000</td>\n",
       "    </tr>\n",
       "  </tbody>\n",
       "</table>\n",
       "</div>"
      ],
      "text/plain": [
       "                 0\n",
       "count  1626.000000\n",
       "mean    320.535670\n",
       "std     251.631687\n",
       "min       4.000000\n",
       "25%     130.250000\n",
       "50%     230.500000\n",
       "75%     443.750000\n",
       "max    1155.000000"
      ]
     },
     "execution_count": 11,
     "metadata": {},
     "output_type": "execute_result"
    }
   ],
   "source": [
    "length_x = pd.DataFrame(length_x)\n",
    "length_x.describe()"
   ]
  },
  {
   "cell_type": "code",
   "execution_count": 12,
   "metadata": {},
   "outputs": [],
   "source": [
    "length_text= []\n",
    "for i in train.values:\n",
    "    length_text.append([i[0],len(i[2])])\n",
    "length_text = pd.DataFrame(length_text)"
   ]
  },
  {
   "cell_type": "code",
   "execution_count": 13,
   "metadata": {},
   "outputs": [
    {
     "data": {
      "text/html": [
       "<div>\n",
       "<style scoped>\n",
       "    .dataframe tbody tr th:only-of-type {\n",
       "        vertical-align: middle;\n",
       "    }\n",
       "\n",
       "    .dataframe tbody tr th {\n",
       "        vertical-align: top;\n",
       "    }\n",
       "\n",
       "    .dataframe thead th {\n",
       "        text-align: right;\n",
       "    }\n",
       "</style>\n",
       "<table border=\"1\" class=\"dataframe\">\n",
       "  <thead>\n",
       "    <tr style=\"text-align: right;\">\n",
       "      <th></th>\n",
       "      <th>id</th>\n",
       "      <th>length_text</th>\n",
       "    </tr>\n",
       "  </thead>\n",
       "  <tbody>\n",
       "    <tr>\n",
       "      <td>0</td>\n",
       "      <td>340000</td>\n",
       "      <td>500</td>\n",
       "    </tr>\n",
       "    <tr>\n",
       "      <td>1</td>\n",
       "      <td>340001</td>\n",
       "      <td>618</td>\n",
       "    </tr>\n",
       "    <tr>\n",
       "      <td>2</td>\n",
       "      <td>340002</td>\n",
       "      <td>129</td>\n",
       "    </tr>\n",
       "    <tr>\n",
       "      <td>3</td>\n",
       "      <td>340003</td>\n",
       "      <td>90</td>\n",
       "    </tr>\n",
       "    <tr>\n",
       "      <td>4</td>\n",
       "      <td>340004</td>\n",
       "      <td>282</td>\n",
       "    </tr>\n",
       "    <tr>\n",
       "      <td>...</td>\n",
       "      <td>...</td>\n",
       "      <td>...</td>\n",
       "    </tr>\n",
       "    <tr>\n",
       "      <td>1621</td>\n",
       "      <td>341621</td>\n",
       "      <td>293</td>\n",
       "    </tr>\n",
       "    <tr>\n",
       "      <td>1622</td>\n",
       "      <td>341622</td>\n",
       "      <td>86</td>\n",
       "    </tr>\n",
       "    <tr>\n",
       "      <td>1623</td>\n",
       "      <td>341623</td>\n",
       "      <td>88</td>\n",
       "    </tr>\n",
       "    <tr>\n",
       "      <td>1624</td>\n",
       "      <td>341624</td>\n",
       "      <td>685</td>\n",
       "    </tr>\n",
       "    <tr>\n",
       "      <td>1625</td>\n",
       "      <td>341625</td>\n",
       "      <td>242</td>\n",
       "    </tr>\n",
       "  </tbody>\n",
       "</table>\n",
       "<p>1626 rows × 2 columns</p>\n",
       "</div>"
      ],
      "text/plain": [
       "          id  length_text\n",
       "0     340000          500\n",
       "1     340001          618\n",
       "2     340002          129\n",
       "3     340003           90\n",
       "4     340004          282\n",
       "...      ...          ...\n",
       "1621  341621          293\n",
       "1622  341622           86\n",
       "1623  341623           88\n",
       "1624  341624          685\n",
       "1625  341625          242\n",
       "\n",
       "[1626 rows x 2 columns]"
      ]
     },
     "execution_count": 13,
     "metadata": {},
     "output_type": "execute_result"
    }
   ],
   "source": [
    "length_text.rename(columns={0:\"id\", 1:\"length_text\"}, inplace =True)\n",
    "length_text"
   ]
  },
  {
   "cell_type": "code",
   "execution_count": 14,
   "metadata": {},
   "outputs": [
    {
     "data": {
      "text/html": [
       "<div>\n",
       "<style scoped>\n",
       "    .dataframe tbody tr th:only-of-type {\n",
       "        vertical-align: middle;\n",
       "    }\n",
       "\n",
       "    .dataframe tbody tr th {\n",
       "        vertical-align: top;\n",
       "    }\n",
       "\n",
       "    .dataframe thead th {\n",
       "        text-align: right;\n",
       "    }\n",
       "</style>\n",
       "<table border=\"1\" class=\"dataframe\">\n",
       "  <thead>\n",
       "    <tr style=\"text-align: right;\">\n",
       "      <th></th>\n",
       "      <th>id</th>\n",
       "      <th>year_month</th>\n",
       "      <th>text</th>\n",
       "      <th>season</th>\n",
       "      <th>length_text</th>\n",
       "    </tr>\n",
       "  </thead>\n",
       "  <tbody>\n",
       "    <tr>\n",
       "      <td>0</td>\n",
       "      <td>340000</td>\n",
       "      <td>2019-01</td>\n",
       "      <td>XXX고객님! 안녕하세요? 새롭게 시작하는 한 주 행복 가득하시길 기원합니다. 지난...</td>\n",
       "      <td>9</td>\n",
       "      <td>500</td>\n",
       "    </tr>\n",
       "    <tr>\n",
       "      <td>1</td>\n",
       "      <td>340001</td>\n",
       "      <td>2019-01</td>\n",
       "      <td>긴급 안내  XXX은행 가락동 지점  - 헬리오XXX 기본XXX    대출이자를 ...</td>\n",
       "      <td>9</td>\n",
       "      <td>618</td>\n",
       "    </tr>\n",
       "    <tr>\n",
       "      <td>2</td>\n",
       "      <td>340002</td>\n",
       "      <td>2019-01</td>\n",
       "      <td>XXX 고객님 안녕하세요올해는 미세먼지가 유난인거 같습니다.엊그제 새해가 시작된거같...</td>\n",
       "      <td>9</td>\n",
       "      <td>129</td>\n",
       "    </tr>\n",
       "    <tr>\n",
       "      <td>3</td>\n",
       "      <td>340003</td>\n",
       "      <td>2019-01</td>\n",
       "      <td>XXX 고객님찾아온 행운을 잡으셨나요? 못잡으셨다면 이번에 다시 잡으시길 기원합니다...</td>\n",
       "      <td>9</td>\n",
       "      <td>90</td>\n",
       "    </tr>\n",
       "    <tr>\n",
       "      <td>4</td>\n",
       "      <td>340004</td>\n",
       "      <td>2019-01</td>\n",
       "      <td>XXX 고객님새해 복 많이 받으세요 XXX은행 코스트코 퇴직연금 담당자입니다.  고...</td>\n",
       "      <td>9</td>\n",
       "      <td>282</td>\n",
       "    </tr>\n",
       "    <tr>\n",
       "      <td>...</td>\n",
       "      <td>...</td>\n",
       "      <td>...</td>\n",
       "      <td>...</td>\n",
       "      <td>...</td>\n",
       "      <td>...</td>\n",
       "    </tr>\n",
       "    <tr>\n",
       "      <td>1621</td>\n",
       "      <td>341621</td>\n",
       "      <td>2019-04</td>\n",
       "      <td>(광고)XXX 고객님안녕하십니까!!고객님의 소중한 업무처리를 도와드린 kb창원중앙동...</td>\n",
       "      <td>10</td>\n",
       "      <td>293</td>\n",
       "    </tr>\n",
       "    <tr>\n",
       "      <td>1622</td>\n",
       "      <td>341622</td>\n",
       "      <td>2019-04</td>\n",
       "      <td>고객님 항상 저희 지점을 거래해 주셔서 감사합니다  본점 서비스 설문 전화 받으시면...</td>\n",
       "      <td>10</td>\n",
       "      <td>86</td>\n",
       "    </tr>\n",
       "    <tr>\n",
       "      <td>1623</td>\n",
       "      <td>341623</td>\n",
       "      <td>2019-04</td>\n",
       "      <td>XXX 고객님 저희 XXX은행 XXX지점을 이용해주셔서 감사드립니다  이번주도 더 ...</td>\n",
       "      <td>10</td>\n",
       "      <td>88</td>\n",
       "    </tr>\n",
       "    <tr>\n",
       "      <td>1624</td>\n",
       "      <td>341624</td>\n",
       "      <td>2019-04</td>\n",
       "      <td>(광고)알림 신청하면 매일 현금 100만원! XXX부동산 리브온지금 XXX부동산 리...</td>\n",
       "      <td>10</td>\n",
       "      <td>685</td>\n",
       "    </tr>\n",
       "    <tr>\n",
       "      <td>1625</td>\n",
       "      <td>341625</td>\n",
       "      <td>2019-04</td>\n",
       "      <td>(광고) XXX 고객님 안녕하세요.XXX봉XXX점 XXX대리입니다. 군인연금수급권자...</td>\n",
       "      <td>10</td>\n",
       "      <td>242</td>\n",
       "    </tr>\n",
       "  </tbody>\n",
       "</table>\n",
       "<p>1626 rows × 5 columns</p>\n",
       "</div>"
      ],
      "text/plain": [
       "          id year_month                                               text  \\\n",
       "0     340000    2019-01  XXX고객님! 안녕하세요? 새롭게 시작하는 한 주 행복 가득하시길 기원합니다. 지난...   \n",
       "1     340001    2019-01   긴급 안내  XXX은행 가락동 지점  - 헬리오XXX 기본XXX    대출이자를 ...   \n",
       "2     340002    2019-01  XXX 고객님 안녕하세요올해는 미세먼지가 유난인거 같습니다.엊그제 새해가 시작된거같...   \n",
       "3     340003    2019-01  XXX 고객님찾아온 행운을 잡으셨나요? 못잡으셨다면 이번에 다시 잡으시길 기원합니다...   \n",
       "4     340004    2019-01  XXX 고객님새해 복 많이 받으세요 XXX은행 코스트코 퇴직연금 담당자입니다.  고...   \n",
       "...      ...        ...                                                ...   \n",
       "1621  341621    2019-04  (광고)XXX 고객님안녕하십니까!!고객님의 소중한 업무처리를 도와드린 kb창원중앙동...   \n",
       "1622  341622    2019-04  고객님 항상 저희 지점을 거래해 주셔서 감사합니다  본점 서비스 설문 전화 받으시면...   \n",
       "1623  341623    2019-04  XXX 고객님 저희 XXX은행 XXX지점을 이용해주셔서 감사드립니다  이번주도 더 ...   \n",
       "1624  341624    2019-04  (광고)알림 신청하면 매일 현금 100만원! XXX부동산 리브온지금 XXX부동산 리...   \n",
       "1625  341625    2019-04  (광고) XXX 고객님 안녕하세요.XXX봉XXX점 XXX대리입니다. 군인연금수급권자...   \n",
       "\n",
       "      season  length_text  \n",
       "0          9          500  \n",
       "1          9          618  \n",
       "2          9          129  \n",
       "3          9           90  \n",
       "4          9          282  \n",
       "...      ...          ...  \n",
       "1621      10          293  \n",
       "1622      10           86  \n",
       "1623      10           88  \n",
       "1624      10          685  \n",
       "1625      10          242  \n",
       "\n",
       "[1626 rows x 5 columns]"
      ]
     },
     "execution_count": 14,
     "metadata": {},
     "output_type": "execute_result"
    }
   ],
   "source": [
    "train = pd.merge(train, length_text, how = 'inner')\n",
    "train"
   ]
  },
  {
   "cell_type": "markdown",
   "metadata": {},
   "source": [
    "# 띄어쓰기와 형태소 분석"
   ]
  },
  {
   "cell_type": "markdown",
   "metadata": {},
   "source": [
    "# crf spacing"
   ]
  },
  {
   "cell_type": "markdown",
   "metadata": {},
   "source": [
    "# soy spacing"
   ]
  },
  {
   "cell_type": "code",
   "execution_count": 15,
   "metadata": {},
   "outputs": [],
   "source": [
    "train['clean_doc'] = train['text']\n",
    "\n",
    "# 삭제용\n",
    "time = ['\\d+년[가-힣]{0,1}',\n",
    "        '\\d+월[가-힣]{0,1}',\n",
    "        '\\d+일[가-힣]{0,1}',\n",
    "        '[(]월[)]',\n",
    "        '[(]화[)]',\n",
    "        '[(]수[)]',\n",
    "        '[(]목[)]',\n",
    "        '[(]금[)]',\n",
    "        '[(]토[)]',\n",
    "        '[(]일[)]']\n",
    "\n",
    "money = [\"\\d+억{0,1}만{0,1}원\", \"\\d*일*\\d*십*\\d*백*\\d*천*\\d*만*\\d*억*\\d*원\"]\n",
    "\n",
    "\n",
    "# 변수 추가용\n",
    "anboo = ['감사','행복', '사랑', '즐거', '고맙']\n",
    "myeonjeol = ['새해', '추석', '설날', '구정', '신정', '한가위', '명절', '연휴']\n",
    "sorry = ['파업', '불편', '양해', '사과', '죄송', '이해', '이전', '이동', '발령']\n",
    "callme = ['문자', '연락', '전화', '답장', '상담']\n",
    "visit = ['내점', '방문']\n",
    "daechool = ['대출', '대환', '증액', '채무', '연체', '원리금', '부채', '상환', '']\n",
    "event = [\"이벤트\", \"당첨\", \"추첨\", \"응모\"]\n",
    "interest = ['\\d[.]\\d+\\%']\n",
    "link = ['http']\n",
    "kakao = ['톡\\s*상담', 'KISA', 'ID\\s*:']\n",
    "\n",
    "def make_col(target, colname_str):\n",
    "    colname = colname_str\n",
    "    train[colname] = 0\n",
    "    \n",
    "    for t in target:\n",
    "        count = -1\n",
    "        p = re.compile(t)\n",
    "        \n",
    "        for i in train['clean_doc']:\n",
    "            count += 1\n",
    "            \n",
    "            if p.findall(i):\n",
    "                train[colname][count] += 1\n",
    "\n",
    "def del_text(target):\n",
    "    train['clean_doc'] = train['clean_doc'].str.replace(target,\" \")"
   ]
  },
  {
   "cell_type": "code",
   "execution_count": 16,
   "metadata": {},
   "outputs": [
    {
     "name": "stderr",
     "output_type": "stream",
     "text": [
      "C:\\ProgramData\\Anaconda3\\lib\\site-packages\\ipykernel_launcher.py:42: SettingWithCopyWarning: \n",
      "A value is trying to be set on a copy of a slice from a DataFrame\n",
      "\n",
      "See the caveats in the documentation: http://pandas.pydata.org/pandas-docs/stable/user_guide/indexing.html#returning-a-view-versus-a-copy\n"
     ]
    }
   ],
   "source": [
    "make_col(anboo, \"anboo\")\n",
    "make_col(myeonjeol, \"myeongjeol\")\n",
    "make_col(sorry, \"sorry\")\n",
    "make_col(callme, \"callme\")\n",
    "make_col(visit, \"visit\")\n",
    "make_col(daechool, \"daechool\")\n",
    "make_col(event, \"event\")\n",
    "make_col(interest, \"interest\")\n",
    "make_col(link, \"link\")\n",
    "make_col(kakao, \"kakao\")"
   ]
  },
  {
   "cell_type": "code",
   "execution_count": 17,
   "metadata": {},
   "outputs": [],
   "source": [
    "train['clean_doc'] = train['text']\n",
    "\n",
    "for m in money:\n",
    "    del_text(m)\n",
    "\n",
    "for i in time:\n",
    "    del_text(i)\n",
    "\n",
    "train['clean_doc'] = train['clean_doc'].str.replace(\"[^가-힣+]\",\" \")"
   ]
  },
  {
   "cell_type": "code",
   "execution_count": 18,
   "metadata": {},
   "outputs": [
    {
     "name": "stdout",
     "output_type": "stream",
     "text": [
      "2020-01-06 13:41:58.132530\n",
      "0:00:04.388987\n"
     ]
    }
   ],
   "source": [
    "begin_time = datetime.datetime.now()\n",
    "print(begin_time)\n",
    "to_feature = CharacterFeatureTransformer(\n",
    "    TemplateGenerator()\n",
    "    )\n",
    "\n",
    "model_path = 'demo_model.crfsuite'\n",
    "correct = PyCRFSuiteSpacing(to_feature)\n",
    "correct.load_tagger(model_path)\n",
    "end_time = datetime.datetime.now()\n",
    "print(end_time - begin_time)"
   ]
  },
  {
   "cell_type": "code",
   "execution_count": 19,
   "metadata": {},
   "outputs": [
    {
     "name": "stdout",
     "output_type": "stream",
     "text": [
      "0:00:04.977200\n"
     ]
    }
   ],
   "source": [
    "begin_time = datetime.datetime.now()\n",
    "clean_doc2 = []\n",
    "for i in train['clean_doc']:\n",
    "    clean_doc2.append(correct(i))\n",
    "\n",
    "end_time = datetime.datetime.now()\n",
    "print(end_time- begin_time)"
   ]
  },
  {
   "cell_type": "code",
   "execution_count": 20,
   "metadata": {},
   "outputs": [],
   "source": [
    "train['clean_doc'] = clean_doc2"
   ]
  },
  {
   "cell_type": "markdown",
   "metadata": {},
   "source": [
    "# 주제 찾기 시작"
   ]
  },
  {
   "cell_type": "code",
   "execution_count": 21,
   "metadata": {},
   "outputs": [],
   "source": [
    "import eunjeon\n",
    "tagger = eunjeon.Mecab()"
   ]
  },
  {
   "cell_type": "code",
   "execution_count": 22,
   "metadata": {},
   "outputs": [],
   "source": [
    "result = []\n",
    "for i in train['clean_doc']:\n",
    "    result.append(tagger.nouns(i))"
   ]
  },
  {
   "cell_type": "code",
   "execution_count": 23,
   "metadata": {},
   "outputs": [
    {
     "data": {
      "text/plain": [
       "'고객 안녕 시작 주 행복 지난주 글로벌 증시 파월 미 연준 의장 통화 정책 완화 태도 변화 것 주초 투자 심리 개선 폭 상승 마감 미 중 차관 급 무역 협상 순조 진행 점 긍정 달러 환율 주간 하락 가운데 외국인 투자자 국내 증시 매수 규모 천억 상회 수급 개선 점 주목 필요 금주 시장 미국 금융 주 실적 발표 시작 본격 실적 시즌 진입 지난주 애플 삼성전자 등 주요 기업 분기 실적 전망 하향 조정 점 참고 올해 글로벌 성장 둔화 기조 속 기업 순익 감소 추이 관심 필요 후반 브렉 시트 영국 표결 예정 날씨 건강 유의 한주 감사 은행 송도 센터'"
      ]
     },
     "execution_count": 23,
     "metadata": {},
     "output_type": "execute_result"
    }
   ],
   "source": [
    "detokenized_doc = []\n",
    "for i in range(len(result)):\n",
    "    t = ' '.join(result[i])\n",
    "    detokenized_doc.append(t)\n",
    "\n",
    "detokenized_doc[0]"
   ]
  },
  {
   "cell_type": "code",
   "execution_count": 24,
   "metadata": {},
   "outputs": [],
   "source": [
    "train['detoken'] = detokenized_doc"
   ]
  },
  {
   "cell_type": "code",
   "execution_count": 25,
   "metadata": {
    "scrolled": true
   },
   "outputs": [
    {
     "data": {
      "text/plain": [
       "id             0\n",
       "year_month     0\n",
       "text           0\n",
       "season         0\n",
       "length_text    0\n",
       "clean_doc      0\n",
       "anboo          0\n",
       "myeongjeol     0\n",
       "sorry          0\n",
       "callme         0\n",
       "visit          0\n",
       "daechool       0\n",
       "event          0\n",
       "interest       0\n",
       "link           0\n",
       "kakao          0\n",
       "detoken        0\n",
       "dtype: int64"
      ]
     },
     "execution_count": 25,
     "metadata": {},
     "output_type": "execute_result"
    }
   ],
   "source": [
    "train.isna().sum()"
   ]
  },
  {
   "cell_type": "code",
   "execution_count": 28,
   "metadata": {},
   "outputs": [],
   "source": [
    "train['detoken'].fillna(\" \", inplace = True)\n",
    "train_set = train.drop(['year_month','text', 'clean_doc'], axis=1)\n",
    "train_set.to_csv(\"test_detoken.csv\", index = False)"
   ]
  },
  {
   "cell_type": "code",
   "execution_count": null,
   "metadata": {},
   "outputs": [],
   "source": []
  }
 ],
 "metadata": {
  "kernelspec": {
   "display_name": "Python 3",
   "language": "python",
   "name": "python3"
  },
  "language_info": {
   "codemirror_mode": {
    "name": "ipython",
    "version": 3
   },
   "file_extension": ".py",
   "mimetype": "text/x-python",
   "name": "python",
   "nbconvert_exporter": "python",
   "pygments_lexer": "ipython3",
   "version": "3.7.4"
  }
 },
 "nbformat": 4,
 "nbformat_minor": 2
}
