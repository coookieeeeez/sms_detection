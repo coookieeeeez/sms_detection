{
 "cells": [
  {
   "cell_type": "code",
   "execution_count": 4,
   "metadata": {},
   "outputs": [],
   "source": [
    "import pandas as pd\n",
    "import matplotlib.pyplot as plt\n",
    "import seaborn as sns\n",
    "import re\n",
    "import math\n",
    "import time, datetime\n",
    "#띄어쓰기\n",
    "from pycrfsuite_spacing import TemplateGenerator\n",
    "from pycrfsuite_spacing import CharacterFeatureTransformer\n",
    "from pycrfsuite_spacing import PyCRFSuiteSpacing\n",
    "from soyspacing.countbase import CountSpace\n",
    "\n",
    "from sklearn.feature_extraction.text import CountVectorizer\n",
    "from sklearn.feature_extraction.text import TfidfTransformer\n",
    "from sklearn.naive_bayes import MultinomialNB # 다항분포 나이브 베이즈 모델\n",
    "from sklearn.metrics import accuracy_score #정확도 계산\n",
    "\n",
    "from pprint import pprint\n",
    " \n",
    "# Gensim\n",
    "import gensim\n",
    "import gensim.corpora as corpora\n",
    "from gensim.utils import simple_preprocess\n",
    "from gensim.models import CoherenceModel\n",
    " \n",
    "# spacy for lemmatization\n",
    "import spacy\n",
    " \n",
    "# Plotting tools\n",
    "import pyLDAvis\n",
    "import pyLDAvis.gensim # don't skip this\n",
    " \n",
    "# Enable logging for gensim - optional\n",
    "import logging\n",
    "logging.basicConfig(format='%(asctime)s : %(levelname)s : %(message)s', level=logging.ERROR)\n",
    " \n",
    "import warnings\n",
    "warnings.filterwarnings(\"ignore\",category=DeprecationWarning)"
   ]
  },
  {
   "cell_type": "code",
   "execution_count": 3,
   "metadata": {},
   "outputs": [],
   "source": [
    "from IPython.core.interactiveshell import InteractiveShell\n",
    "InteractiveShell.ast_node_interactivity = \"all\"\n",
    "# pd.set_option('display.max_rows', 500)\n",
    "# pd.set_option('display.min_rows', 500)\n",
    "pd.set_option('display.max_colwidth', -1)\n"
   ]
  },
  {
   "cell_type": "markdown",
   "metadata": {},
   "source": [
    "# 데이터 체크"
   ]
  },
  {
   "cell_type": "code",
   "execution_count": 4,
   "metadata": {},
   "outputs": [],
   "source": [
    "train = pd.read_csv(\"C:/cook/dacon/train.csv\")\n",
    "test = pd.read_csv(\"C:/cook/dacon/public_test.csv\")"
   ]
  },
  {
   "cell_type": "code",
   "execution_count": 5,
   "metadata": {},
   "outputs": [
    {
     "data": {
      "text/plain": [
       "Index(['id', 'year_month', 'text', 'smishing'], dtype='object')"
      ]
     },
     "execution_count": 5,
     "metadata": {},
     "output_type": "execute_result"
    },
    {
     "data": {
      "text/plain": [
       "Index(['id', 'year_month', 'text'], dtype='object')"
      ]
     },
     "execution_count": 5,
     "metadata": {},
     "output_type": "execute_result"
    }
   ],
   "source": [
    "train.columns\n",
    "test.columns"
   ]
  },
  {
   "cell_type": "code",
   "execution_count": 6,
   "metadata": {
    "scrolled": true
   },
   "outputs": [
    {
     "data": {
      "text/plain": [
       "RangeIndex(start=0, stop=295945, step=1)"
      ]
     },
     "execution_count": 6,
     "metadata": {},
     "output_type": "execute_result"
    },
    {
     "data": {
      "text/plain": [
       "RangeIndex(start=0, stop=1626, step=1)"
      ]
     },
     "execution_count": 6,
     "metadata": {},
     "output_type": "execute_result"
    }
   ],
   "source": [
    "train.index\n",
    "test.index"
   ]
  },
  {
   "cell_type": "markdown",
   "metadata": {},
   "source": [
    "# 분석 시작"
   ]
  },
  {
   "cell_type": "code",
   "execution_count": 7,
   "metadata": {},
   "outputs": [
    {
     "data": {
      "text/plain": [
       "('2017-01', '2018-12', '2019-01', '2019-04')"
      ]
     },
     "execution_count": 7,
     "metadata": {},
     "output_type": "execute_result"
    }
   ],
   "source": [
    "train['year_month'].min(), train['year_month'].max(),test['year_month'].min(), test['year_month'].max()"
   ]
  },
  {
   "cell_type": "code",
   "execution_count": 8,
   "metadata": {},
   "outputs": [],
   "source": [
    "date = []\n",
    "p = re.compile('2017-')\n",
    "q = re.compile('2018-')\n",
    "for i in train['year_month']:\n",
    "    if p.match(i):\n",
    "        date.append(int(i.replace(\"2017-\", \"\")))\n",
    "    elif q.match(i):\n",
    "        date.append(int(i.replace(\"2018-\", \"\")) + 12)\n",
    "    else:\n",
    "        date.append(int(i.replace(\"2019-\", \"\")) + 24)"
   ]
  },
  {
   "cell_type": "code",
   "execution_count": 9,
   "metadata": {},
   "outputs": [],
   "source": [
    "season = list(range(0,len(date)))\n",
    "for i in range(0,len(date)):\n",
    "    season[i] = math.ceil(date[i] / 3)\n",
    "train[\"season\"] = season"
   ]
  },
  {
   "cell_type": "code",
   "execution_count": 10,
   "metadata": {},
   "outputs": [],
   "source": [
    "date = []\n",
    "p = re.compile('2017-')\n",
    "q = re.compile('2018-')\n",
    "for i in test['year_month']:\n",
    "    if p.match(i):\n",
    "        date.append(int(i.replace(\"2017-\", \"\")))\n",
    "    elif q.match(i):\n",
    "        date.append(int(i.replace(\"2018-\", \"\")) + 12)\n",
    "    else:\n",
    "        date.append(int(i.replace(\"2019-\", \"\")) + 24)"
   ]
  },
  {
   "cell_type": "code",
   "execution_count": 11,
   "metadata": {},
   "outputs": [],
   "source": [
    "season = list(range(0,len(date)))\n",
    "for i in range(0,len(date)):\n",
    "    season[i] = math.ceil(date[i] / 3)\n",
    "test[\"season\"] = season"
   ]
  },
  {
   "cell_type": "markdown",
   "metadata": {},
   "source": [
    "# 계절 9값 확인 -- 단순 예측(12월 값 *3)\n",
    "len(train[idx][train['season']==9]), 1150\n",
    "\n",
    "\n",
    "len(train[idy][train['season']==9])) 4131"
   ]
  },
  {
   "cell_type": "markdown",
   "metadata": {},
   "source": [
    "# 텍스트 데이터 분석"
   ]
  },
  {
   "cell_type": "markdown",
   "metadata": {},
   "source": [
    "idx = 스미싱 문자\n",
    "idy = 정상 문자"
   ]
  },
  {
   "cell_type": "markdown",
   "metadata": {},
   "source": [
    "head를 보면 정상 문자의 경우, 단순고객접촉을 의도로 발송하는 경우가 보임.\n",
    "그러나, 스미싱의 경우 이익을 목적으로 하지 않는 문자는 발송하지 않음.\n",
    "따라서, Document의 주제를 분석하여 비이익접촉을 걸러내는 방법 활용"
   ]
  },
  {
   "cell_type": "code",
   "execution_count": 12,
   "metadata": {},
   "outputs": [],
   "source": [
    "idx = train['smishing'] == 1\n",
    "idy = train['smishing'] == 0"
   ]
  },
  {
   "cell_type": "markdown",
   "metadata": {},
   "source": [
    "데이터에 \"ID:\" 라는 텍스트가 있으면 모두 스미싱\n",
    " -- 카카오톡 플러스친구(공식계정)가 아닌 친구(비공식계정) 등록을 유도하여 속이는 방법으로 추정"
   ]
  },
  {
   "cell_type": "markdown",
   "metadata": {},
   "source": [
    "# 텍스트 길이 분석"
   ]
  },
  {
   "cell_type": "code",
   "execution_count": 13,
   "metadata": {
    "scrolled": true
   },
   "outputs": [],
   "source": [
    "length_x = [] # 스미싱 문자\n",
    "length_y = [] # 정상 문자\n",
    "\n",
    "for i in train[idx]['text']:\n",
    "    length_x.append(len(i))    \n",
    "for i in train[idy]['text']:\n",
    "    length_y.append(len(i))"
   ]
  },
  {
   "cell_type": "code",
   "execution_count": 14,
   "metadata": {
    "scrolled": true
   },
   "outputs": [
    {
     "data": {
      "text/html": [
       "<div>\n",
       "<style scoped>\n",
       "    .dataframe tbody tr th:only-of-type {\n",
       "        vertical-align: middle;\n",
       "    }\n",
       "\n",
       "    .dataframe tbody tr th {\n",
       "        vertical-align: top;\n",
       "    }\n",
       "\n",
       "    .dataframe thead th {\n",
       "        text-align: right;\n",
       "    }\n",
       "</style>\n",
       "<table border=\"1\" class=\"dataframe\">\n",
       "  <thead>\n",
       "    <tr style=\"text-align: right;\">\n",
       "      <th></th>\n",
       "      <th>0</th>\n",
       "    </tr>\n",
       "  </thead>\n",
       "  <tbody>\n",
       "    <tr>\n",
       "      <td>count</td>\n",
       "      <td>18703.000000</td>\n",
       "    </tr>\n",
       "    <tr>\n",
       "      <td>mean</td>\n",
       "      <td>801.004117</td>\n",
       "    </tr>\n",
       "    <tr>\n",
       "      <td>std</td>\n",
       "      <td>206.203451</td>\n",
       "    </tr>\n",
       "    <tr>\n",
       "      <td>min</td>\n",
       "      <td>39.000000</td>\n",
       "    </tr>\n",
       "    <tr>\n",
       "      <td>25%</td>\n",
       "      <td>689.000000</td>\n",
       "    </tr>\n",
       "    <tr>\n",
       "      <td>50%</td>\n",
       "      <td>876.000000</td>\n",
       "    </tr>\n",
       "    <tr>\n",
       "      <td>75%</td>\n",
       "      <td>917.000000</td>\n",
       "    </tr>\n",
       "    <tr>\n",
       "      <td>max</td>\n",
       "      <td>1230.000000</td>\n",
       "    </tr>\n",
       "  </tbody>\n",
       "</table>\n",
       "</div>"
      ],
      "text/plain": [
       "                  0\n",
       "count  18703.000000\n",
       "mean   801.004117  \n",
       "std    206.203451  \n",
       "min    39.000000   \n",
       "25%    689.000000  \n",
       "50%    876.000000  \n",
       "75%    917.000000  \n",
       "max    1230.000000 "
      ]
     },
     "execution_count": 14,
     "metadata": {},
     "output_type": "execute_result"
    },
    {
     "data": {
      "text/html": [
       "<div>\n",
       "<style scoped>\n",
       "    .dataframe tbody tr th:only-of-type {\n",
       "        vertical-align: middle;\n",
       "    }\n",
       "\n",
       "    .dataframe tbody tr th {\n",
       "        vertical-align: top;\n",
       "    }\n",
       "\n",
       "    .dataframe thead th {\n",
       "        text-align: right;\n",
       "    }\n",
       "</style>\n",
       "<table border=\"1\" class=\"dataframe\">\n",
       "  <thead>\n",
       "    <tr style=\"text-align: right;\">\n",
       "      <th></th>\n",
       "      <th>0</th>\n",
       "    </tr>\n",
       "  </thead>\n",
       "  <tbody>\n",
       "    <tr>\n",
       "      <td>count</td>\n",
       "      <td>277242.000000</td>\n",
       "    </tr>\n",
       "    <tr>\n",
       "      <td>mean</td>\n",
       "      <td>133.742395</td>\n",
       "    </tr>\n",
       "    <tr>\n",
       "      <td>std</td>\n",
       "      <td>149.335550</td>\n",
       "    </tr>\n",
       "    <tr>\n",
       "      <td>min</td>\n",
       "      <td>1.000000</td>\n",
       "    </tr>\n",
       "    <tr>\n",
       "      <td>25%</td>\n",
       "      <td>39.000000</td>\n",
       "    </tr>\n",
       "    <tr>\n",
       "      <td>50%</td>\n",
       "      <td>75.000000</td>\n",
       "    </tr>\n",
       "    <tr>\n",
       "      <td>75%</td>\n",
       "      <td>172.000000</td>\n",
       "    </tr>\n",
       "    <tr>\n",
       "      <td>max</td>\n",
       "      <td>1498.000000</td>\n",
       "    </tr>\n",
       "  </tbody>\n",
       "</table>\n",
       "</div>"
      ],
      "text/plain": [
       "                   0\n",
       "count  277242.000000\n",
       "mean   133.742395   \n",
       "std    149.335550   \n",
       "min    1.000000     \n",
       "25%    39.000000    \n",
       "50%    75.000000    \n",
       "75%    172.000000   \n",
       "max    1498.000000  "
      ]
     },
     "execution_count": 14,
     "metadata": {},
     "output_type": "execute_result"
    }
   ],
   "source": [
    "length_x = pd.DataFrame(length_x)\n",
    "length_y = pd.DataFrame(length_y)\n",
    "length_x.describe()\n",
    "length_y.describe()"
   ]
  },
  {
   "cell_type": "markdown",
   "metadata": {},
   "source": [
    "길이가 300 ~ 350(whisker 교차지점, 스미싱 whisker 시작부분), 900 ~ 950(스미싱 중앙값 부근)에서 기울기가 급격히 변함"
   ]
  },
  {
   "cell_type": "code",
   "execution_count": 6,
   "metadata": {},
   "outputs": [],
   "source": [
    "length_text= []\n",
    "for i in train.values:\n",
    "    length_text.append([i[0],len(i[2])])\n",
    "length_text = pd.DataFrame(length_text)"
   ]
  },
  {
   "cell_type": "code",
   "execution_count": 7,
   "metadata": {
    "scrolled": true
   },
   "outputs": [
    {
     "data": {
      "text/html": [
       "<div>\n",
       "<style scoped>\n",
       "    .dataframe tbody tr th:only-of-type {\n",
       "        vertical-align: middle;\n",
       "    }\n",
       "\n",
       "    .dataframe tbody tr th {\n",
       "        vertical-align: top;\n",
       "    }\n",
       "\n",
       "    .dataframe thead th {\n",
       "        text-align: right;\n",
       "    }\n",
       "</style>\n",
       "<table border=\"1\" class=\"dataframe\">\n",
       "  <thead>\n",
       "    <tr style=\"text-align: right;\">\n",
       "      <th></th>\n",
       "      <th>id</th>\n",
       "      <th>length_text</th>\n",
       "    </tr>\n",
       "  </thead>\n",
       "  <tbody>\n",
       "    <tr>\n",
       "      <td>0</td>\n",
       "      <td>0</td>\n",
       "      <td>24</td>\n",
       "    </tr>\n",
       "    <tr>\n",
       "      <td>1</td>\n",
       "      <td>1</td>\n",
       "      <td>37</td>\n",
       "    </tr>\n",
       "    <tr>\n",
       "      <td>2</td>\n",
       "      <td>2</td>\n",
       "      <td>81</td>\n",
       "    </tr>\n",
       "    <tr>\n",
       "      <td>3</td>\n",
       "      <td>4</td>\n",
       "      <td>174</td>\n",
       "    </tr>\n",
       "    <tr>\n",
       "      <td>4</td>\n",
       "      <td>5</td>\n",
       "      <td>40</td>\n",
       "    </tr>\n",
       "    <tr>\n",
       "      <td>...</td>\n",
       "      <td>...</td>\n",
       "      <td>...</td>\n",
       "    </tr>\n",
       "    <tr>\n",
       "      <td>295940</td>\n",
       "      <td>336373</td>\n",
       "      <td>168</td>\n",
       "    </tr>\n",
       "    <tr>\n",
       "      <td>295941</td>\n",
       "      <td>336375</td>\n",
       "      <td>33</td>\n",
       "    </tr>\n",
       "    <tr>\n",
       "      <td>295942</td>\n",
       "      <td>336376</td>\n",
       "      <td>97</td>\n",
       "    </tr>\n",
       "    <tr>\n",
       "      <td>295943</td>\n",
       "      <td>336377</td>\n",
       "      <td>66</td>\n",
       "    </tr>\n",
       "    <tr>\n",
       "      <td>295944</td>\n",
       "      <td>336378</td>\n",
       "      <td>642</td>\n",
       "    </tr>\n",
       "  </tbody>\n",
       "</table>\n",
       "<p>295945 rows × 2 columns</p>\n",
       "</div>"
      ],
      "text/plain": [
       "            id  length_text\n",
       "0            0           24\n",
       "1            1           37\n",
       "2            2           81\n",
       "3            4          174\n",
       "4            5           40\n",
       "...        ...          ...\n",
       "295940  336373          168\n",
       "295941  336375           33\n",
       "295942  336376           97\n",
       "295943  336377           66\n",
       "295944  336378          642\n",
       "\n",
       "[295945 rows x 2 columns]"
      ]
     },
     "execution_count": 7,
     "metadata": {},
     "output_type": "execute_result"
    }
   ],
   "source": [
    "length_text.rename(columns={0:\"id\", 1:\"length_text\"}, inplace =True)\n",
    "length_text"
   ]
  },
  {
   "cell_type": "markdown",
   "metadata": {},
   "source": [
    "# 띄어쓰기와 형태소 분석"
   ]
  },
  {
   "cell_type": "markdown",
   "metadata": {},
   "source": [
    "# crf spacing"
   ]
  },
  {
   "cell_type": "code",
   "execution_count": 17,
   "metadata": {},
   "outputs": [
    {
     "name": "stdout",
     "output_type": "stream",
     "text": [
      "2020-01-06 10:37:31.032834\n",
      "0:00:01.100667\n"
     ]
    }
   ],
   "source": [
    "begin_time = datetime.datetime.now()\n",
    "print(begin_time)\n",
    "to_feature = CharacterFeatureTransformer(\n",
    "    TemplateGenerator()\n",
    "    )\n",
    "\n",
    "model_path = 'demo_model.crfsuite'\n",
    "correct = PyCRFSuiteSpacing(to_feature)\n",
    "correct.load_tagger(model_path)\n",
    "end_time = datetime.datetime.now()\n",
    "print(end_time - begin_time)"
   ]
  },
  {
   "cell_type": "markdown",
   "metadata": {},
   "source": [
    "# soy spacing"
   ]
  },
  {
   "cell_type": "code",
   "execution_count": 74,
   "metadata": {},
   "outputs": [],
   "source": [
    "train['clean_doc'] = train['text']\n",
    "\n",
    "# 삭제용\n",
    "time = ['\\d+년[가-힣]{0,1}',\n",
    "        '\\d+월[가-힣]{0,1}',\n",
    "        '\\d+일[가-힣]{0,1}',\n",
    "        '[(]월[)]',\n",
    "        '[(]화[)]',\n",
    "        '[(]수[)]',\n",
    "        '[(]목[)]',\n",
    "        '[(]금[)]',\n",
    "        '[(]토[)]',\n",
    "        '[(]일[)]']\n",
    "\n",
    "money = [\"\\d+억{0,1}만{0,1}원\", \"\\d*일*\\d*십*\\d*백*\\d*천*\\d*만*\\d*억*\\d*원\"]\n",
    "\n",
    "\n",
    "# 변수 추가용\n",
    "anboo = ['감사','행복', '사랑', '즐거', '고맙']\n",
    "myeonjeol = ['새해', '추석', '설날', '구정', '신정', '한가위', '명절', '연휴']\n",
    "sorry = ['파업', '불편', '양해', '사과', '죄송', '이해', '이전', '이동', '발령']\n",
    "callme = ['문자', '연락', '전화', '답장', '상담']\n",
    "visit = ['내점', '방문']\n",
    "daechool = ['대출', '대환', '증액', '채무', '연체', '원리금', '부채', '상환', '']\n",
    "event = [\"이벤트\", \"당첨\", \"추첨\", \"응모\"]\n",
    "interest = ['\\d[.]\\d+\\%']\n",
    "link = ['http']\n",
    "kakao = ['톡\\s*상담', 'KISA', 'ID\\s*:']\n",
    "\n",
    "def make_col(target, colname_str):\n",
    "    colname = colname_str\n",
    "    train[colname] = 0\n",
    "    \n",
    "    for t in target:\n",
    "        count = -1\n",
    "        p = re.compile(t)\n",
    "        \n",
    "        for i in train['clean_doc']:\n",
    "            count += 1\n",
    "            \n",
    "            if p.findall(i):\n",
    "                train[colname][count] += 1\n",
    "\n",
    "def del_text(target):\n",
    "    train['clean_doc'] = train['clean_doc'].str.replace(target,\" \")"
   ]
  },
  {
   "cell_type": "code",
   "execution_count": 19,
   "metadata": {
    "scrolled": true
   },
   "outputs": [
    {
     "name": "stderr",
     "output_type": "stream",
     "text": [
      "C:\\ProgramData\\Anaconda3\\lib\\site-packages\\ipykernel_launcher.py:34: SettingWithCopyWarning: \n",
      "A value is trying to be set on a copy of a slice from a DataFrame\n",
      "\n",
      "See the caveats in the documentation: http://pandas.pydata.org/pandas-docs/stable/user_guide/indexing.html#returning-a-view-versus-a-copy\n"
     ]
    }
   ],
   "source": [
    "make_col(anboo, \"anboo\")\n",
    "make_col(myeonjeol, \"myeongjeol\")\n",
    "make_col(sorry, \"sorry\")\n",
    "make_col(callme, \"callme\")\n",
    "make_col(visit, \"visit\")\n",
    "make_col(daechool, \"daechool\")\n",
    "make_col(event, \"event\")\n",
    "make_col(interest, \"interest\")\n",
    "make_col(link, \"link\")\n",
    "make_col(kakao, \"kakao\")"
   ]
  },
  {
   "cell_type": "code",
   "execution_count": null,
   "metadata": {
    "scrolled": true
   },
   "outputs": [],
   "source": [
    "train['clean_doc'] = train['text']\n",
    "\n",
    "for m in money:\n",
    "    del_text(m)\n",
    "\n",
    "for i in time:\n",
    "    del_text(i)\n",
    "\n",
    "train['clean_doc'] = train['clean_doc'].str.replace(\"[^가-힣+]\",\" \")"
   ]
  },
  {
   "cell_type": "code",
   "execution_count": 182,
   "metadata": {},
   "outputs": [
    {
     "name": "stdout",
     "output_type": "stream",
     "text": [
      "2020-01-06 12:05:11.752601\n",
      "0:10:04.405361\n"
     ]
    }
   ],
   "source": [
    "begin_time = datetime.datetime.now()\n",
    "print(begin_time)\n",
    "clean_doc2 = []\n",
    "for i in train['clean_doc']:\n",
    "    clean_doc2.append(correct(i))\n",
    "\n",
    "end_time = datetime.datetime.now()\n",
    "print(end_time- begin_time)"
   ]
  },
  {
   "cell_type": "code",
   "execution_count": 172,
   "metadata": {},
   "outputs": [
    {
     "data": {
      "text/plain": [
       "id            207367                                \n",
       "year_month    2017-11                               \n",
       "text          11월 내내 건강과 행복이 함께하세요. XXX은행 XXX점 XXX올림\n",
       "smishing      0                                     \n",
       "season        4                                     \n",
       "clean_doc       월 내내 건강과 행복이 함께하세요     은행    점    올림\n",
       "anboo         1                                     \n",
       "myeongjeol    0                                     \n",
       "sorry         0                                     \n",
       "callme        0                                     \n",
       "visit         0                                     \n",
       "daechool      0                                     \n",
       "event         0                                     \n",
       "interest      0                                     \n",
       "link          0                                     \n",
       "kakao         0                                     \n",
       "detoken       월 내내 건강 과 행복 이 함께 하 세요 은행 점 올림        \n",
       "Name: 181303, dtype: object"
      ]
     },
     "execution_count": 172,
     "metadata": {},
     "output_type": "execute_result"
    }
   ],
   "source": [
    "train.iloc[181303]"
   ]
  },
  {
   "cell_type": "code",
   "execution_count": 183,
   "metadata": {},
   "outputs": [],
   "source": [
    "train['clean_doc'] = clean_doc2"
   ]
  },
  {
   "cell_type": "code",
   "execution_count": 184,
   "metadata": {},
   "outputs": [
    {
     "data": {
      "text/html": [
       "<div>\n",
       "<style scoped>\n",
       "    .dataframe tbody tr th:only-of-type {\n",
       "        vertical-align: middle;\n",
       "    }\n",
       "\n",
       "    .dataframe tbody tr th {\n",
       "        vertical-align: top;\n",
       "    }\n",
       "\n",
       "    .dataframe thead th {\n",
       "        text-align: right;\n",
       "    }\n",
       "</style>\n",
       "<table border=\"1\" class=\"dataframe\">\n",
       "  <thead>\n",
       "    <tr style=\"text-align: right;\">\n",
       "      <th></th>\n",
       "      <th>id</th>\n",
       "      <th>year_month</th>\n",
       "      <th>text</th>\n",
       "      <th>smishing</th>\n",
       "      <th>season</th>\n",
       "      <th>clean_doc</th>\n",
       "      <th>anboo</th>\n",
       "      <th>myeongjeol</th>\n",
       "      <th>sorry</th>\n",
       "      <th>callme</th>\n",
       "      <th>visit</th>\n",
       "      <th>daechool</th>\n",
       "      <th>event</th>\n",
       "      <th>interest</th>\n",
       "      <th>link</th>\n",
       "      <th>kakao</th>\n",
       "      <th>detoken</th>\n",
       "    </tr>\n",
       "  </thead>\n",
       "  <tbody>\n",
       "  </tbody>\n",
       "</table>\n",
       "</div>"
      ],
      "text/plain": [
       "Empty DataFrame\n",
       "Columns: [id, year_month, text, smishing, season, clean_doc, anboo, myeongjeol, sorry, callme, visit, daechool, event, interest, link, kakao, detoken]\n",
       "Index: []"
      ]
     },
     "execution_count": 184,
     "metadata": {},
     "output_type": "execute_result"
    }
   ],
   "source": [
    "train[train['clean_doc'].isna()==True]"
   ]
  },
  {
   "cell_type": "code",
   "execution_count": 185,
   "metadata": {},
   "outputs": [],
   "source": [
    "train['clean_doc'].fillna(\" \", inplace = True)"
   ]
  },
  {
   "cell_type": "code",
   "execution_count": 186,
   "metadata": {},
   "outputs": [],
   "source": [
    "train.to_csv(\"train_prep.csv\", index=False)"
   ]
  },
  {
   "cell_type": "markdown",
   "metadata": {},
   "source": [
    "# 주제 찾기 시작"
   ]
  },
  {
   "cell_type": "code",
   "execution_count": 187,
   "metadata": {},
   "outputs": [],
   "source": [
    "from eunjeon import Mecab\n",
    "tagger = Mecab()"
   ]
  },
  {
   "cell_type": "code",
   "execution_count": 188,
   "metadata": {},
   "outputs": [],
   "source": [
    "result = []\n",
    "for i in train['clean_doc']:\n",
    "    result.append(tagger.morphs(i))"
   ]
  },
  {
   "cell_type": "code",
   "execution_count": 189,
   "metadata": {},
   "outputs": [
    {
     "data": {
      "text/plain": [
       "'은행 성산 팀장 입니다 행복 한 주말 되 세요'"
      ]
     },
     "execution_count": 189,
     "metadata": {},
     "output_type": "execute_result"
    }
   ],
   "source": [
    "detokenized_doc = []\n",
    "for i in range(len(result)):\n",
    "    t = ' '.join(result[i])\n",
    "    detokenized_doc.append(t)\n",
    "\n",
    "detokenized_doc[0]"
   ]
  },
  {
   "cell_type": "code",
   "execution_count": 190,
   "metadata": {},
   "outputs": [],
   "source": [
    "train['detoken'] = detokenized_doc"
   ]
  },
  {
   "cell_type": "code",
   "execution_count": 192,
   "metadata": {
    "scrolled": true
   },
   "outputs": [
    {
     "data": {
      "text/html": [
       "<div>\n",
       "<style scoped>\n",
       "    .dataframe tbody tr th:only-of-type {\n",
       "        vertical-align: middle;\n",
       "    }\n",
       "\n",
       "    .dataframe tbody tr th {\n",
       "        vertical-align: top;\n",
       "    }\n",
       "\n",
       "    .dataframe thead th {\n",
       "        text-align: right;\n",
       "    }\n",
       "</style>\n",
       "<table border=\"1\" class=\"dataframe\">\n",
       "  <thead>\n",
       "    <tr style=\"text-align: right;\">\n",
       "      <th></th>\n",
       "      <th>id</th>\n",
       "      <th>year_month</th>\n",
       "      <th>text</th>\n",
       "      <th>smishing</th>\n",
       "      <th>season</th>\n",
       "      <th>clean_doc</th>\n",
       "      <th>anboo</th>\n",
       "      <th>myeongjeol</th>\n",
       "      <th>sorry</th>\n",
       "      <th>callme</th>\n",
       "      <th>visit</th>\n",
       "      <th>daechool</th>\n",
       "      <th>event</th>\n",
       "      <th>interest</th>\n",
       "      <th>link</th>\n",
       "      <th>kakao</th>\n",
       "      <th>detoken</th>\n",
       "    </tr>\n",
       "  </thead>\n",
       "  <tbody>\n",
       "  </tbody>\n",
       "</table>\n",
       "</div>"
      ],
      "text/plain": [
       "Empty DataFrame\n",
       "Columns: [id, year_month, text, smishing, season, clean_doc, anboo, myeongjeol, sorry, callme, visit, daechool, event, interest, link, kakao, detoken]\n",
       "Index: []"
      ]
     },
     "execution_count": 192,
     "metadata": {},
     "output_type": "execute_result"
    }
   ],
   "source": [
    "train[train['detoken'].isna() == True]"
   ]
  },
  {
   "cell_type": "code",
   "execution_count": 9,
   "metadata": {},
   "outputs": [
    {
     "data": {
      "text/html": [
       "<div>\n",
       "<style scoped>\n",
       "    .dataframe tbody tr th:only-of-type {\n",
       "        vertical-align: middle;\n",
       "    }\n",
       "\n",
       "    .dataframe tbody tr th {\n",
       "        vertical-align: top;\n",
       "    }\n",
       "\n",
       "    .dataframe thead th {\n",
       "        text-align: right;\n",
       "    }\n",
       "</style>\n",
       "<table border=\"1\" class=\"dataframe\">\n",
       "  <thead>\n",
       "    <tr style=\"text-align: right;\">\n",
       "      <th></th>\n",
       "      <th>id</th>\n",
       "      <th>year_month</th>\n",
       "      <th>text</th>\n",
       "      <th>smishing</th>\n",
       "      <th>season</th>\n",
       "      <th>clean_doc</th>\n",
       "      <th>anboo</th>\n",
       "      <th>myeongjeol</th>\n",
       "      <th>sorry</th>\n",
       "      <th>callme</th>\n",
       "      <th>visit</th>\n",
       "      <th>daechool</th>\n",
       "      <th>event</th>\n",
       "      <th>interest</th>\n",
       "      <th>link</th>\n",
       "      <th>kakao</th>\n",
       "      <th>detoken</th>\n",
       "      <th>length_text</th>\n",
       "    </tr>\n",
       "  </thead>\n",
       "  <tbody>\n",
       "    <tr>\n",
       "      <td>0</td>\n",
       "      <td>0</td>\n",
       "      <td>2017-01</td>\n",
       "      <td>XXX은행성산XXX팀장입니다.행복한주말되세요</td>\n",
       "      <td>0</td>\n",
       "      <td>1</td>\n",
       "      <td>은행 성산 팀장 입니다 행복한 주말 되세요</td>\n",
       "      <td>1</td>\n",
       "      <td>0</td>\n",
       "      <td>0</td>\n",
       "      <td>0</td>\n",
       "      <td>0</td>\n",
       "      <td>0</td>\n",
       "      <td>0</td>\n",
       "      <td>0</td>\n",
       "      <td>0</td>\n",
       "      <td>0</td>\n",
       "      <td>은행 성산 팀장 입니다 행복 한 주말 되 세요</td>\n",
       "      <td>24</td>\n",
       "    </tr>\n",
       "    <tr>\n",
       "      <td>1</td>\n",
       "      <td>1</td>\n",
       "      <td>2017-01</td>\n",
       "      <td>오늘도많이웃으시는하루시작하세요XXX은행 진월동VIP라운지 XXX올림</td>\n",
       "      <td>0</td>\n",
       "      <td>1</td>\n",
       "      <td>오늘도 많이 웃으시는 하루 시작하세요 은행 진월동 라운지 올림</td>\n",
       "      <td>0</td>\n",
       "      <td>0</td>\n",
       "      <td>0</td>\n",
       "      <td>0</td>\n",
       "      <td>0</td>\n",
       "      <td>0</td>\n",
       "      <td>0</td>\n",
       "      <td>0</td>\n",
       "      <td>0</td>\n",
       "      <td>0</td>\n",
       "      <td>오늘 도 많이 웃 으시 는 하루 시작 하 세요 은행 진월동 라운지 올림</td>\n",
       "      <td>37</td>\n",
       "    </tr>\n",
       "    <tr>\n",
       "      <td>2</td>\n",
       "      <td>2</td>\n",
       "      <td>2017-01</td>\n",
       "      <td>안녕하십니까 고객님. XXX은행입니다.금일 납부하셔야 할 금액은 153600원 입니...</td>\n",
       "      <td>0</td>\n",
       "      <td>1</td>\n",
       "      <td>안녕하십니까 고객님 은행 입니다 금일 납부하셔야 할 금액은 입니다 감사합니다 새해 ...</td>\n",
       "      <td>1</td>\n",
       "      <td>1</td>\n",
       "      <td>0</td>\n",
       "      <td>0</td>\n",
       "      <td>0</td>\n",
       "      <td>0</td>\n",
       "      <td>0</td>\n",
       "      <td>0</td>\n",
       "      <td>0</td>\n",
       "      <td>0</td>\n",
       "      <td>안녕 하 십니까 고객 님 은행 입니다 금일 납부 하 셔야 할 금액 은 입니다 감사 ...</td>\n",
       "      <td>81</td>\n",
       "    </tr>\n",
       "    <tr>\n",
       "      <td>3</td>\n",
       "      <td>4</td>\n",
       "      <td>2017-01</td>\n",
       "      <td>XXX 고객님안녕하세요XXX은행 XXX지점입니다지난 한 해 동안 저희 XXX지점에 ...</td>\n",
       "      <td>0</td>\n",
       "      <td>1</td>\n",
       "      <td>고객 님안녕하세요 은행 지점 입니다 지난 한 해 동안 저희 지점에 보내주신 성 에 ...</td>\n",
       "      <td>3</td>\n",
       "      <td>1</td>\n",
       "      <td>0</td>\n",
       "      <td>0</td>\n",
       "      <td>0</td>\n",
       "      <td>0</td>\n",
       "      <td>0</td>\n",
       "      <td>0</td>\n",
       "      <td>0</td>\n",
       "      <td>0</td>\n",
       "      <td>고객 님 안녕 하 세요 은행 지점 입니다 지난 한 해 동안 저희 지점 에 보내 주 ...</td>\n",
       "      <td>174</td>\n",
       "    </tr>\n",
       "    <tr>\n",
       "      <td>4</td>\n",
       "      <td>5</td>\n",
       "      <td>2017-01</td>\n",
       "      <td>1월은 새로움이 가득XXX입니다.올 한해 더 많이행복한 한해되시길바랍니다</td>\n",
       "      <td>0</td>\n",
       "      <td>1</td>\n",
       "      <td>새로 움이 가득 입니다 올 한해 더 많이 행복한 한해 되시길 바랍니다</td>\n",
       "      <td>1</td>\n",
       "      <td>0</td>\n",
       "      <td>0</td>\n",
       "      <td>0</td>\n",
       "      <td>0</td>\n",
       "      <td>0</td>\n",
       "      <td>0</td>\n",
       "      <td>0</td>\n",
       "      <td>0</td>\n",
       "      <td>0</td>\n",
       "      <td>새로 움 이 가득 입니다 올 한 해 더 많이 행복 한 한 해 되 시 길 바랍니다</td>\n",
       "      <td>40</td>\n",
       "    </tr>\n",
       "    <tr>\n",
       "      <td>...</td>\n",
       "      <td>...</td>\n",
       "      <td>...</td>\n",
       "      <td>...</td>\n",
       "      <td>...</td>\n",
       "      <td>...</td>\n",
       "      <td>...</td>\n",
       "      <td>...</td>\n",
       "      <td>...</td>\n",
       "      <td>...</td>\n",
       "      <td>...</td>\n",
       "      <td>...</td>\n",
       "      <td>...</td>\n",
       "      <td>...</td>\n",
       "      <td>...</td>\n",
       "      <td>...</td>\n",
       "      <td>...</td>\n",
       "      <td>...</td>\n",
       "      <td>...</td>\n",
       "    </tr>\n",
       "    <tr>\n",
       "      <td>295940</td>\n",
       "      <td>336373</td>\n",
       "      <td>2018-12</td>\n",
       "      <td>XXX 고객님!열심히 달려왔던 2018년도 어느 새 뒤안길로 지나쳐가고 벅찬 설렘으...</td>\n",
       "      <td>0</td>\n",
       "      <td>8</td>\n",
       "      <td>고객님 열심히 달려왔던 어느 새 뒤안길로 지나쳐 가고 벅찬 설렘으로 신년의 새로운 ...</td>\n",
       "      <td>2</td>\n",
       "      <td>1</td>\n",
       "      <td>0</td>\n",
       "      <td>0</td>\n",
       "      <td>0</td>\n",
       "      <td>0</td>\n",
       "      <td>0</td>\n",
       "      <td>0</td>\n",
       "      <td>0</td>\n",
       "      <td>0</td>\n",
       "      <td>고객 님 열심히 달려왔 던 어느 새 뒤안길 로 지나쳐 가 고 벅찬 설렘 으로 신년 ...</td>\n",
       "      <td>168</td>\n",
       "    </tr>\n",
       "    <tr>\n",
       "      <td>295941</td>\n",
       "      <td>336375</td>\n",
       "      <td>2018-12</td>\n",
       "      <td>XXX고객님실버웰빙신탁이 만기도래 예정입니다.XXX남양주지점</td>\n",
       "      <td>0</td>\n",
       "      <td>8</td>\n",
       "      <td>고객 님실버 웰빙 신탁이 만기도 래 예정입니다 남양주지점</td>\n",
       "      <td>0</td>\n",
       "      <td>0</td>\n",
       "      <td>0</td>\n",
       "      <td>0</td>\n",
       "      <td>0</td>\n",
       "      <td>0</td>\n",
       "      <td>0</td>\n",
       "      <td>0</td>\n",
       "      <td>0</td>\n",
       "      <td>0</td>\n",
       "      <td>고객 님 실버 웰빙 신탁 이 만 기 도 래 예정 입니다 남양주 지점</td>\n",
       "      <td>33</td>\n",
       "    </tr>\n",
       "    <tr>\n",
       "      <td>295942</td>\n",
       "      <td>336376</td>\n",
       "      <td>2018-12</td>\n",
       "      <td>한해동안 XXX은행과 함께 해주셔서 정말 감사드립니다 2019년 기해년을 맞이하며 ...</td>\n",
       "      <td>0</td>\n",
       "      <td>8</td>\n",
       "      <td>한해 동안 은행과 함께 해주셔서 정말 감사드립니다 기해 년을 맞이하며 가족의 건강과...</td>\n",
       "      <td>2</td>\n",
       "      <td>1</td>\n",
       "      <td>0</td>\n",
       "      <td>0</td>\n",
       "      <td>0</td>\n",
       "      <td>0</td>\n",
       "      <td>0</td>\n",
       "      <td>0</td>\n",
       "      <td>0</td>\n",
       "      <td>0</td>\n",
       "      <td>한 해 동안 은행 과 함께 해 주 셔서 정말 감사 드립니다 기해 년 을 맞이 하 며...</td>\n",
       "      <td>97</td>\n",
       "    </tr>\n",
       "    <tr>\n",
       "      <td>295943</td>\n",
       "      <td>336377</td>\n",
       "      <td>2018-12</td>\n",
       "      <td>1228(금)예금및 적금 만기입니다.예금은 시간내서 내점하시고 적금은 1년 자동연장...</td>\n",
       "      <td>0</td>\n",
       "      <td>8</td>\n",
       "      <td>예금및 적금 만기입니다 예금은 시간 내서 내점하시고 적금은 자동연장되니 참고바랍니다...</td>\n",
       "      <td>0</td>\n",
       "      <td>0</td>\n",
       "      <td>0</td>\n",
       "      <td>0</td>\n",
       "      <td>1</td>\n",
       "      <td>0</td>\n",
       "      <td>0</td>\n",
       "      <td>0</td>\n",
       "      <td>0</td>\n",
       "      <td>0</td>\n",
       "      <td>예금 및 적금 만기 입니다 예금 은 시간 내서 내점 하 시 고 적금 은 자동 연장 ...</td>\n",
       "      <td>66</td>\n",
       "    </tr>\n",
       "    <tr>\n",
       "      <td>295944</td>\n",
       "      <td>336378</td>\n",
       "      <td>2018-12</td>\n",
       "      <td>안녕하세요 XXX 고객님. 스타링크 전담직원 XXX입니다. 스타링크 고객님 대상으로...</td>\n",
       "      <td>0</td>\n",
       "      <td>8</td>\n",
       "      <td>안녕하세요 고객님 스타 링크 전담직 입니다 스타링크 고객님 대상으로 이벤트가 있어 ...</td>\n",
       "      <td>1</td>\n",
       "      <td>1</td>\n",
       "      <td>0</td>\n",
       "      <td>3</td>\n",
       "      <td>0</td>\n",
       "      <td>0</td>\n",
       "      <td>4</td>\n",
       "      <td>0</td>\n",
       "      <td>0</td>\n",
       "      <td>0</td>\n",
       "      <td>안녕 하 세요 고 객님 스타 링크 전담 직 입니다 스타 링크 고객 님 대상 으로 이...</td>\n",
       "      <td>642</td>\n",
       "    </tr>\n",
       "  </tbody>\n",
       "</table>\n",
       "<p>295945 rows × 18 columns</p>\n",
       "</div>"
      ],
      "text/plain": [
       "            id year_month                                               text  \\\n",
       "0            0    2017-01                           XXX은행성산XXX팀장입니다.행복한주말되세요   \n",
       "1            1    2017-01              오늘도많이웃으시는하루시작하세요XXX은행 진월동VIP라운지 XXX올림   \n",
       "2            2    2017-01  안녕하십니까 고객님. XXX은행입니다.금일 납부하셔야 할 금액은 153600원 입니...   \n",
       "3            4    2017-01  XXX 고객님안녕하세요XXX은행 XXX지점입니다지난 한 해 동안 저희 XXX지점에 ...   \n",
       "4            5    2017-01           1월은 새로움이 가득XXX입니다.올 한해 더 많이행복한 한해되시길바랍니다   \n",
       "...        ...        ...                                                ...   \n",
       "295940  336373    2018-12  XXX 고객님!열심히 달려왔던 2018년도 어느 새 뒤안길로 지나쳐가고 벅찬 설렘으...   \n",
       "295941  336375    2018-12                  XXX고객님실버웰빙신탁이 만기도래 예정입니다.XXX남양주지점   \n",
       "295942  336376    2018-12  한해동안 XXX은행과 함께 해주셔서 정말 감사드립니다 2019년 기해년을 맞이하며 ...   \n",
       "295943  336377    2018-12  1228(금)예금및 적금 만기입니다.예금은 시간내서 내점하시고 적금은 1년 자동연장...   \n",
       "295944  336378    2018-12  안녕하세요 XXX 고객님. 스타링크 전담직원 XXX입니다. 스타링크 고객님 대상으로...   \n",
       "\n",
       "        smishing  season                                          clean_doc  \\\n",
       "0              0       1                            은행 성산 팀장 입니다 행복한 주말 되세요   \n",
       "1              0       1                 오늘도 많이 웃으시는 하루 시작하세요 은행 진월동 라운지 올림   \n",
       "2              0       1  안녕하십니까 고객님 은행 입니다 금일 납부하셔야 할 금액은 입니다 감사합니다 새해 ...   \n",
       "3              0       1  고객 님안녕하세요 은행 지점 입니다 지난 한 해 동안 저희 지점에 보내주신 성 에 ...   \n",
       "4              0       1             새로 움이 가득 입니다 올 한해 더 많이 행복한 한해 되시길 바랍니다   \n",
       "...          ...     ...                                                ...   \n",
       "295940         0       8  고객님 열심히 달려왔던 어느 새 뒤안길로 지나쳐 가고 벅찬 설렘으로 신년의 새로운 ...   \n",
       "295941         0       8                    고객 님실버 웰빙 신탁이 만기도 래 예정입니다 남양주지점   \n",
       "295942         0       8  한해 동안 은행과 함께 해주셔서 정말 감사드립니다 기해 년을 맞이하며 가족의 건강과...   \n",
       "295943         0       8  예금및 적금 만기입니다 예금은 시간 내서 내점하시고 적금은 자동연장되니 참고바랍니다...   \n",
       "295944         0       8  안녕하세요 고객님 스타 링크 전담직 입니다 스타링크 고객님 대상으로 이벤트가 있어 ...   \n",
       "\n",
       "        anboo  myeongjeol  sorry  callme  visit  daechool  event  interest  \\\n",
       "0           1           0      0       0      0         0      0         0   \n",
       "1           0           0      0       0      0         0      0         0   \n",
       "2           1           1      0       0      0         0      0         0   \n",
       "3           3           1      0       0      0         0      0         0   \n",
       "4           1           0      0       0      0         0      0         0   \n",
       "...       ...         ...    ...     ...    ...       ...    ...       ...   \n",
       "295940      2           1      0       0      0         0      0         0   \n",
       "295941      0           0      0       0      0         0      0         0   \n",
       "295942      2           1      0       0      0         0      0         0   \n",
       "295943      0           0      0       0      1         0      0         0   \n",
       "295944      1           1      0       3      0         0      4         0   \n",
       "\n",
       "        link  kakao                                            detoken  \\\n",
       "0          0      0                          은행 성산 팀장 입니다 행복 한 주말 되 세요   \n",
       "1          0      0            오늘 도 많이 웃 으시 는 하루 시작 하 세요 은행 진월동 라운지 올림   \n",
       "2          0      0  안녕 하 십니까 고객 님 은행 입니다 금일 납부 하 셔야 할 금액 은 입니다 감사 ...   \n",
       "3          0      0  고객 님 안녕 하 세요 은행 지점 입니다 지난 한 해 동안 저희 지점 에 보내 주 ...   \n",
       "4          0      0       새로 움 이 가득 입니다 올 한 해 더 많이 행복 한 한 해 되 시 길 바랍니다   \n",
       "...      ...    ...                                                ...   \n",
       "295940     0      0  고객 님 열심히 달려왔 던 어느 새 뒤안길 로 지나쳐 가 고 벅찬 설렘 으로 신년 ...   \n",
       "295941     0      0              고객 님 실버 웰빙 신탁 이 만 기 도 래 예정 입니다 남양주 지점   \n",
       "295942     0      0  한 해 동안 은행 과 함께 해 주 셔서 정말 감사 드립니다 기해 년 을 맞이 하 며...   \n",
       "295943     0      0  예금 및 적금 만기 입니다 예금 은 시간 내서 내점 하 시 고 적금 은 자동 연장 ...   \n",
       "295944     0      0  안녕 하 세요 고 객님 스타 링크 전담 직 입니다 스타 링크 고객 님 대상 으로 이...   \n",
       "\n",
       "        length_text  \n",
       "0                24  \n",
       "1                37  \n",
       "2                81  \n",
       "3               174  \n",
       "4                40  \n",
       "...             ...  \n",
       "295940          168  \n",
       "295941           33  \n",
       "295942           97  \n",
       "295943           66  \n",
       "295944          642  \n",
       "\n",
       "[295945 rows x 18 columns]"
      ]
     },
     "execution_count": 9,
     "metadata": {},
     "output_type": "execute_result"
    }
   ],
   "source": [
    "train = pd.read_csv(\"train_detoken.csv\")\n",
    "train = pd.merge(train, length_text, how = 'inner')\n",
    "train"
   ]
  },
  {
   "cell_type": "code",
   "execution_count": 10,
   "metadata": {},
   "outputs": [],
   "source": [
    "train.to_csv(\"train_detoken.csv\", index = False)"
   ]
  },
  {
   "cell_type": "code",
   "execution_count": 136,
   "metadata": {},
   "outputs": [
    {
     "data": {
      "text/html": [
       "<div>\n",
       "<style scoped>\n",
       "    .dataframe tbody tr th:only-of-type {\n",
       "        vertical-align: middle;\n",
       "    }\n",
       "\n",
       "    .dataframe tbody tr th {\n",
       "        vertical-align: top;\n",
       "    }\n",
       "\n",
       "    .dataframe thead th {\n",
       "        text-align: right;\n",
       "    }\n",
       "</style>\n",
       "<table border=\"1\" class=\"dataframe\">\n",
       "  <thead>\n",
       "    <tr style=\"text-align: right;\">\n",
       "      <th></th>\n",
       "      <th>smishing</th>\n",
       "      <th>season</th>\n",
       "      <th>anboo</th>\n",
       "      <th>myeongjeol</th>\n",
       "      <th>sorry</th>\n",
       "      <th>callme</th>\n",
       "      <th>visit</th>\n",
       "      <th>daechool</th>\n",
       "      <th>event</th>\n",
       "      <th>interest</th>\n",
       "      <th>link</th>\n",
       "      <th>kakao</th>\n",
       "      <th>detoken</th>\n",
       "    </tr>\n",
       "  </thead>\n",
       "  <tbody>\n",
       "    <tr>\n",
       "      <td>0</td>\n",
       "      <td>0</td>\n",
       "      <td>1</td>\n",
       "      <td>1</td>\n",
       "      <td>0</td>\n",
       "      <td>0</td>\n",
       "      <td>0</td>\n",
       "      <td>0</td>\n",
       "      <td>0</td>\n",
       "      <td>0</td>\n",
       "      <td>0</td>\n",
       "      <td>0</td>\n",
       "      <td>0</td>\n",
       "      <td>은행 성산 팀장 입니다 행복 한 주말 되 세요</td>\n",
       "    </tr>\n",
       "    <tr>\n",
       "      <td>1</td>\n",
       "      <td>0</td>\n",
       "      <td>1</td>\n",
       "      <td>0</td>\n",
       "      <td>0</td>\n",
       "      <td>0</td>\n",
       "      <td>0</td>\n",
       "      <td>0</td>\n",
       "      <td>0</td>\n",
       "      <td>0</td>\n",
       "      <td>0</td>\n",
       "      <td>0</td>\n",
       "      <td>0</td>\n",
       "      <td>오늘 도 많이 웃 으시 는 하루 시작 하 세요 은행 진월동 라운지 올림</td>\n",
       "    </tr>\n",
       "    <tr>\n",
       "      <td>2</td>\n",
       "      <td>0</td>\n",
       "      <td>1</td>\n",
       "      <td>1</td>\n",
       "      <td>1</td>\n",
       "      <td>0</td>\n",
       "      <td>0</td>\n",
       "      <td>0</td>\n",
       "      <td>0</td>\n",
       "      <td>0</td>\n",
       "      <td>0</td>\n",
       "      <td>0</td>\n",
       "      <td>0</td>\n",
       "      <td>안녕 하 십니까 고객 님 은행 입니다 금일 납부 하 셔야 할 금액 은 원 입니다 감사 합니다 새해 복 많이 받 으십시오 은행 옥포 올림</td>\n",
       "    </tr>\n",
       "    <tr>\n",
       "      <td>3</td>\n",
       "      <td>0</td>\n",
       "      <td>1</td>\n",
       "      <td>3</td>\n",
       "      <td>1</td>\n",
       "      <td>0</td>\n",
       "      <td>0</td>\n",
       "      <td>0</td>\n",
       "      <td>0</td>\n",
       "      <td>0</td>\n",
       "      <td>0</td>\n",
       "      <td>0</td>\n",
       "      <td>0</td>\n",
       "      <td>고객 님 안녕 하 세요 은행 지점 입니다 지난 한 해 동안 저희 지점 에 보내 주 신 성원 에 감사 드립니다 설렘 으로 시작 한 년 소망 하 시 는 일 모두 이 고객 님 의 가정 에 늘 건강 과 행복 이 함께 하 길 기원 하 겠 습니다 사랑 하 는 가족 과 함께 정 을 나누 는 행복 한 설 명절 보내 세요 은행 지점 직원 일동</td>\n",
       "    </tr>\n",
       "    <tr>\n",
       "      <td>4</td>\n",
       "      <td>0</td>\n",
       "      <td>1</td>\n",
       "      <td>1</td>\n",
       "      <td>0</td>\n",
       "      <td>0</td>\n",
       "      <td>0</td>\n",
       "      <td>0</td>\n",
       "      <td>0</td>\n",
       "      <td>0</td>\n",
       "      <td>0</td>\n",
       "      <td>0</td>\n",
       "      <td>0</td>\n",
       "      <td>월 은 새로 움 이 가득 입니다 올 한 해 더 많이 행복 한 한 해 되 시 길 바랍니다</td>\n",
       "    </tr>\n",
       "    <tr>\n",
       "      <td>...</td>\n",
       "      <td>...</td>\n",
       "      <td>...</td>\n",
       "      <td>...</td>\n",
       "      <td>...</td>\n",
       "      <td>...</td>\n",
       "      <td>...</td>\n",
       "      <td>...</td>\n",
       "      <td>...</td>\n",
       "      <td>...</td>\n",
       "      <td>...</td>\n",
       "      <td>...</td>\n",
       "      <td>...</td>\n",
       "      <td>...</td>\n",
       "    </tr>\n",
       "    <tr>\n",
       "      <td>295940</td>\n",
       "      <td>0</td>\n",
       "      <td>8</td>\n",
       "      <td>2</td>\n",
       "      <td>1</td>\n",
       "      <td>0</td>\n",
       "      <td>0</td>\n",
       "      <td>0</td>\n",
       "      <td>0</td>\n",
       "      <td>0</td>\n",
       "      <td>0</td>\n",
       "      <td>0</td>\n",
       "      <td>0</td>\n",
       "      <td>고객 님 열심히 달려왔 던 년 도 어느 새 뒤안길 로 지나쳐 가 고 벅찬 설렘 으로 신년 의 새로운 기운 을 맞이 하 는 시점 입니다 년 에 도 고객 님 과 가정 에 건강 과 행복 이 가득 하 시 기 를 바라 며 원 하 시 는 일 을 이루 시 는 한 해 가 되 셨 으면 합니다 새해 복 많이 받 으십시오 감사 합니다 은행 일 올림</td>\n",
       "    </tr>\n",
       "    <tr>\n",
       "      <td>295941</td>\n",
       "      <td>0</td>\n",
       "      <td>8</td>\n",
       "      <td>0</td>\n",
       "      <td>0</td>\n",
       "      <td>0</td>\n",
       "      <td>0</td>\n",
       "      <td>0</td>\n",
       "      <td>0</td>\n",
       "      <td>0</td>\n",
       "      <td>0</td>\n",
       "      <td>0</td>\n",
       "      <td>0</td>\n",
       "      <td>고객 님 실버 웰빙 신탁 이 만 기 도 래 예정 입니다 남양주 지점</td>\n",
       "    </tr>\n",
       "    <tr>\n",
       "      <td>295942</td>\n",
       "      <td>0</td>\n",
       "      <td>8</td>\n",
       "      <td>2</td>\n",
       "      <td>1</td>\n",
       "      <td>0</td>\n",
       "      <td>0</td>\n",
       "      <td>0</td>\n",
       "      <td>0</td>\n",
       "      <td>0</td>\n",
       "      <td>0</td>\n",
       "      <td>0</td>\n",
       "      <td>0</td>\n",
       "      <td>한 해 동안 은행 과 함께 해 주 셔서 정말 감사 드립니다 년 기해 년 을 맞이 하 며 가족 의 건강 과 행복 을 기원 합니다 새해 복 많이 받 으십시오 은행 점 올림</td>\n",
       "    </tr>\n",
       "    <tr>\n",
       "      <td>295943</td>\n",
       "      <td>0</td>\n",
       "      <td>8</td>\n",
       "      <td>0</td>\n",
       "      <td>0</td>\n",
       "      <td>0</td>\n",
       "      <td>0</td>\n",
       "      <td>1</td>\n",
       "      <td>0</td>\n",
       "      <td>0</td>\n",
       "      <td>0</td>\n",
       "      <td>0</td>\n",
       "      <td>0</td>\n",
       "      <td>금 예금 및 적금 만기 입니다 예금 은 시간 내서 내점 하 시 고 적금 은 년 자동 연장 되 니 참 고 바랍니다 은행 탄현 지점</td>\n",
       "    </tr>\n",
       "    <tr>\n",
       "      <td>295944</td>\n",
       "      <td>0</td>\n",
       "      <td>8</td>\n",
       "      <td>1</td>\n",
       "      <td>1</td>\n",
       "      <td>0</td>\n",
       "      <td>3</td>\n",
       "      <td>0</td>\n",
       "      <td>0</td>\n",
       "      <td>4</td>\n",
       "      <td>0</td>\n",
       "      <td>0</td>\n",
       "      <td>0</td>\n",
       "      <td>안녕 하 세요 고 객님 스타 링크 전담 직원 입니다 스타 링크 고객 님 대상 으로 이벤트 가 있 어 안내 문자 보내 드리 니 참여 하 시 고 행운 의 주인공 이 되 어 보 세요 첫 번 째 스타 고객 님 의 황금빛 새해 를 기원 합니다 이벤트 추첨 을 통해 분 에게 파리 바 게 뜨 고 구마 케이크 모바일 교환 권 을 드립니다 기간 월 금 대상 고객 스타 링크 전담 관리 고객 으로 기간 중 이벤트 응모 후 퀴즈 정답 을 맞춘 고객 당첨자 발표 일 예정 이벤트 참여 경로 스타 뱅킹 로 그인 바로 가 기 이벤트 바로 가 기 인터넷 뱅킹 조회 전체 계 좌 조회 이벤트 바로 가 기 두 번 째 편리 한 스타 링크 달콤 한 설문 조사 이벤트 추첨 을 통해 분 에게 베스 킨 라 빈스 레드 벨벳 아이스크림 케이크 상품권 을 드립니다 기간 수 수 대상 고객 휴대 전화 를 통해 상담 전용 번호 를 이용 한 고객 통화 시간 초 미만 수신 거부 고객 제외 당첨자 발표 일 예정 으로 당첨자 앞 모바일 상품권 일괄 발송 상담 종료 후 설문 조사 안내 자동 발송 되 니 설문 참여 하 여 달콤 한 케이크 와 함께 기분 좋 은 연말 되 셨 으면 합니다 행복 한 하루 보내 세요 은행 스마트 서비스 올림</td>\n",
       "    </tr>\n",
       "  </tbody>\n",
       "</table>\n",
       "<p>295945 rows × 13 columns</p>\n",
       "</div>"
      ],
      "text/plain": [
       "        smishing  season  anboo  myeongjeol  sorry  callme  visit  daechool  \\\n",
       "0       0         1       1      0           0      0       0      0          \n",
       "1       0         1       0      0           0      0       0      0          \n",
       "2       0         1       1      1           0      0       0      0          \n",
       "3       0         1       3      1           0      0       0      0          \n",
       "4       0         1       1      0           0      0       0      0          \n",
       "...    ..        ..      ..     ..          ..     ..      ..     ..          \n",
       "295940  0         8       2      1           0      0       0      0          \n",
       "295941  0         8       0      0           0      0       0      0          \n",
       "295942  0         8       2      1           0      0       0      0          \n",
       "295943  0         8       0      0           0      0       1      0          \n",
       "295944  0         8       1      1           0      3       0      0          \n",
       "\n",
       "        event  interest  link  kakao  \\\n",
       "0       0      0         0     0       \n",
       "1       0      0         0     0       \n",
       "2       0      0         0     0       \n",
       "3       0      0         0     0       \n",
       "4       0      0         0     0       \n",
       "...    ..     ..        ..    ..       \n",
       "295940  0      0         0     0       \n",
       "295941  0      0         0     0       \n",
       "295942  0      0         0     0       \n",
       "295943  0      0         0     0       \n",
       "295944  4      0         0     0       \n",
       "\n",
       "                                                                                                                                                                                                                                                                                                                                                                                                                                                                                                                                                                                                                              detoken  \n",
       "0       은행 성산 팀장 입니다 행복 한 주말 되 세요                                                                                                                                                                                                                                                                                                                                                                                                                                                                                                                                                                                                      \n",
       "1       오늘 도 많이 웃 으시 는 하루 시작 하 세요 은행 진월동 라운지 올림                                                                                                                                                                                                                                                                                                                                                                                                                                                                                                                                                                                        \n",
       "2       안녕 하 십니까 고객 님 은행 입니다 금일 납부 하 셔야 할 금액 은 원 입니다 감사 합니다 새해 복 많이 받 으십시오 은행 옥포 올림                                                                                                                                                                                                                                                                                                                                                                                                                                                                                                                                                    \n",
       "3       고객 님 안녕 하 세요 은행 지점 입니다 지난 한 해 동안 저희 지점 에 보내 주 신 성원 에 감사 드립니다 설렘 으로 시작 한 년 소망 하 시 는 일 모두 이 고객 님 의 가정 에 늘 건강 과 행복 이 함께 하 길 기원 하 겠 습니다 사랑 하 는 가족 과 함께 정 을 나누 는 행복 한 설 명절 보내 세요 은행 지점 직원 일동                                                                                                                                                                                                                                                                                                                                                                                                                                        \n",
       "4       월 은 새로 움 이 가득 입니다 올 한 해 더 많이 행복 한 한 해 되 시 길 바랍니다                                                                                                                                                                                                                                                                                                                                                                                                                                                                                                                                                                               \n",
       "...                                                  ...                                                                                                                                                                                                                                                                                                                                                                                                                                                                                                                                                                               \n",
       "295940  고객 님 열심히 달려왔 던 년 도 어느 새 뒤안길 로 지나쳐 가 고 벅찬 설렘 으로 신년 의 새로운 기운 을 맞이 하 는 시점 입니다 년 에 도 고객 님 과 가정 에 건강 과 행복 이 가득 하 시 기 를 바라 며 원 하 시 는 일 을 이루 시 는 한 해 가 되 셨 으면 합니다 새해 복 많이 받 으십시오 감사 합니다 은행 일 올림                                                                                                                                                                                                                                                                                                                                                                                                                                       \n",
       "295941  고객 님 실버 웰빙 신탁 이 만 기 도 래 예정 입니다 남양주 지점                                                                                                                                                                                                                                                                                                                                                                                                                                                                                                                                                                                          \n",
       "295942  한 해 동안 은행 과 함께 해 주 셔서 정말 감사 드립니다 년 기해 년 을 맞이 하 며 가족 의 건강 과 행복 을 기원 합니다 새해 복 많이 받 으십시오 은행 점 올림                                                                                                                                                                                                                                                                                                                                                                                                                                                                                                                                  \n",
       "295943  금 예금 및 적금 만기 입니다 예금 은 시간 내서 내점 하 시 고 적금 은 년 자동 연장 되 니 참 고 바랍니다 은행 탄현 지점                                                                                                                                                                                                                                                                                                                                                                                                                                                                                                                                                        \n",
       "295944  안녕 하 세요 고 객님 스타 링크 전담 직원 입니다 스타 링크 고객 님 대상 으로 이벤트 가 있 어 안내 문자 보내 드리 니 참여 하 시 고 행운 의 주인공 이 되 어 보 세요 첫 번 째 스타 고객 님 의 황금빛 새해 를 기원 합니다 이벤트 추첨 을 통해 분 에게 파리 바 게 뜨 고 구마 케이크 모바일 교환 권 을 드립니다 기간 월 금 대상 고객 스타 링크 전담 관리 고객 으로 기간 중 이벤트 응모 후 퀴즈 정답 을 맞춘 고객 당첨자 발표 일 예정 이벤트 참여 경로 스타 뱅킹 로 그인 바로 가 기 이벤트 바로 가 기 인터넷 뱅킹 조회 전체 계 좌 조회 이벤트 바로 가 기 두 번 째 편리 한 스타 링크 달콤 한 설문 조사 이벤트 추첨 을 통해 분 에게 베스 킨 라 빈스 레드 벨벳 아이스크림 케이크 상품권 을 드립니다 기간 수 수 대상 고객 휴대 전화 를 통해 상담 전용 번호 를 이용 한 고객 통화 시간 초 미만 수신 거부 고객 제외 당첨자 발표 일 예정 으로 당첨자 앞 모바일 상품권 일괄 발송 상담 종료 후 설문 조사 안내 자동 발송 되 니 설문 참여 하 여 달콤 한 케이크 와 함께 기분 좋 은 연말 되 셨 으면 합니다 행복 한 하루 보내 세요 은행 스마트 서비스 올림  \n",
       "\n",
       "[295945 rows x 13 columns]"
      ]
     },
     "execution_count": 136,
     "metadata": {},
     "output_type": "execute_result"
    }
   ],
   "source": [
    "train_set = train.drop(['year_month','text','id', 'clean_doc'], axis=1)\n",
    "train_set"
   ]
  },
  {
   "cell_type": "code",
   "execution_count": null,
   "metadata": {},
   "outputs": [],
   "source": [
    "# Define functions for stopwords, bigrams, trigrams and lemmatization\n",
    "def remove_stopwords(texts):\n",
    "    return [[word for word in simple_preprocess(str(doc)) if word not in stop_words] for doc in texts]\n",
    " \n",
    "def make_bigrams(texts):\n",
    "    return [bigram_mod[doc] for doc in texts]\n",
    " \n",
    "def make_trigrams(texts):\n",
    "    return [trigram_mod[bigram_mod[doc]] for doc in texts]\n",
    " \n",
    "def lemmatization(texts, allowed_postags=['NOUN', 'ADJ', 'VERB', 'ADV']):\n",
    "    \"\"\"https://spacy.io/api/annotation\"\"\"\n",
    "    texts_out = []\n",
    "    for sent in texts:\n",
    "        doc = nlp(\" \".join(sent))\n",
    "        texts_out.append([token.lemma_ for token in doc if token.pos_ in allowed_postags])\n",
    "    return texts_out\n",
    "\n",
    "def compute_coherence_values(dictionary, corpus, texts, limit, start=2, step=3):   \n",
    "    coherence_values = []\n",
    "    model_list = []\n",
    "    for num_topics in range(start, limit, step):\n",
    "        model = gensim.models.wrappers.LdaMallet(mallet_path, corpus=corpus, num_topics=num_topics, id2word=id2word)\n",
    "        model_list.append(model)\n",
    "    coherencemodel = CoherenceModel(model=model, texts=texts, dictionary=dictionary, coherence='c_v')\n",
    "    coherence_values.append(coherencemodel.get_coherence())\n",
    "\n",
    "    return model_list, coherence_values\n",
    "\n",
    "def sent_to_words(sentences):\n",
    "    for sentence in sentences:\n",
    "        yield(gensim.utils.simple_preprocess(str(sentence), deacc=True))"
   ]
  },
  {
   "cell_type": "code",
   "execution_count": null,
   "metadata": {},
   "outputs": [],
   "source": [
    "data_words = list(sent_to_words(train['clean_doc']))\n",
    "\n",
    "print(data_words[:1])\n",
    "\n",
    "# Build the bigram and trigram models\n",
    "bigram = gensim.models.Phrases(data_words, min_count=5, threshold=100) # higher threshold fewer phrases.\n",
    "trigram = gensim.models.Phrases(bigram[data_words], threshold=100)\n",
    " \n",
    "# Faster way to get a sentence clubbed as a trigram/bigram\n",
    "bigram_mod = gensim.models.phrases.Phraser(bigram)\n",
    "trigram_mod = gensim.models.phrases.Phraser(trigram)\n",
    " \n",
    "# See trigram example\n",
    "print(trigram_mod[bigram_mod[data_words[0]]])\n",
    "\n",
    "# Remove Stop Words\n",
    "data_words_nostops = remove_stopwords(data_words)\n",
    " \n",
    "# Form Bigrams\n",
    "data_words_bigrams = make_bigrams(data_words_nostops)\n",
    " \n",
    "# Initialize spacy 'en' model, keeping only tagger component (for efficiency)\n",
    "# python3 -m spacy download en\n",
    "nlp = spacy.load('en', disable=['parser', 'ner'])\n",
    " \n",
    "# Do lemmatization keeping only noun, adj, vb, adv\n",
    "data_lemmatized = lemmatization(data_words_bigrams, allowed_postags=['NOUN', 'ADJ', 'VERB', 'ADV'])\n",
    " \n",
    "print(data_lemmatized[:1])\n",
    "\n",
    "# Create Dictionary\n",
    "id2word = corpora.Dictionary(data_lemmatized)\n",
    " \n",
    "# Create Corpus\n",
    "texts = data_lemmatized\n",
    " \n",
    "# Term Document Frequency\n",
    "corpus = [id2word.doc2bow(text) for text in texts]\n",
    " \n",
    "# View\n",
    "print(corpus[:1])\n",
    "\n",
    "pyLDAvis.enable_notebook()\n",
    "vis = pyLDAvis.gensim.prepare(lda_model, corpus, id2word)\n",
    "vis"
   ]
  },
  {
   "cell_type": "code",
   "execution_count": 1,
   "metadata": {},
   "outputs": [
    {
     "ename": "NameError",
     "evalue": "name 'gensim' is not defined",
     "output_type": "error",
     "traceback": [
      "\u001b[1;31m---------------------------------------------------------------------------\u001b[0m",
      "\u001b[1;31mNameError\u001b[0m                                 Traceback (most recent call last)",
      "\u001b[1;32m<ipython-input-1-52df59c76eb6>\u001b[0m in \u001b[0;36m<module>\u001b[1;34m\u001b[0m\n\u001b[0;32m      1\u001b[0m \u001b[1;31m# Download File: http://mallet.cs.umass.edu/dist/mallet-2.0.8.zip\u001b[0m\u001b[1;33m\u001b[0m\u001b[1;33m\u001b[0m\u001b[1;33m\u001b[0m\u001b[0m\n\u001b[0;32m      2\u001b[0m \u001b[0mmallet_path\u001b[0m \u001b[1;33m=\u001b[0m \u001b[1;34m'C:/mallet-2.0.8/bin/mallet'\u001b[0m \u001b[1;31m# update this path\u001b[0m\u001b[1;33m\u001b[0m\u001b[1;33m\u001b[0m\u001b[0m\n\u001b[1;32m----> 3\u001b[1;33m ldamallet = gensim.models.wrappers.LdaMallet(mallet_path, \n\u001b[0m\u001b[0;32m      4\u001b[0m                                              \u001b[0mcorpus\u001b[0m\u001b[1;33m=\u001b[0m\u001b[0mcorpus\u001b[0m\u001b[1;33m,\u001b[0m\u001b[1;33m\u001b[0m\u001b[1;33m\u001b[0m\u001b[0m\n\u001b[0;32m      5\u001b[0m                                              \u001b[0mnum_topics\u001b[0m\u001b[1;33m=\u001b[0m\u001b[1;36m2\u001b[0m\u001b[1;33m,\u001b[0m\u001b[1;33m\u001b[0m\u001b[1;33m\u001b[0m\u001b[0m\n",
      "\u001b[1;31mNameError\u001b[0m: name 'gensim' is not defined"
     ]
    }
   ],
   "source": [
    "# Download File: http://mallet.cs.umass.edu/dist/mallet-2.0.8.zip\n",
    "mallet_path = 'C:/mallet-2.0.8/bin/mallet' # update this path\n",
    "ldamallet = gensim.models.wrappers.LdaMallet(mallet_path, \n",
    "                                             corpus=corpus, \n",
    "                                             num_topics=2, \n",
    "                                             id2word=id2word)"
   ]
  },
  {
   "cell_type": "code",
   "execution_count": null,
   "metadata": {},
   "outputs": [],
   "source": [
    "# Show Topics\n",
    "pprint(ldamallet.show_topics(formatted=False))\n",
    " \n",
    "# Compute Coherence Score\n",
    "coherence_model_ldamallet = CoherenceModel(model=ldamallet, texts=data_lemmatized, dictionary=id2word, coherence='c_v')\n",
    "coherence_ldamallet = coherence_model_ldamallet.get_coherence()\n",
    "print('\\nCoherence Score: ', coherence_ldamallet)"
   ]
  },
  {
   "cell_type": "code",
   "execution_count": null,
   "metadata": {},
   "outputs": [],
   "source": [
    "# Print the Keyword in the 10 topics\n",
    "pprint(lda_model.print_topics())\n",
    "doc_lda = lda_model[corpus]"
   ]
  },
  {
   "cell_type": "code",
   "execution_count": null,
   "metadata": {},
   "outputs": [],
   "source": [
    "# Compute Perplexity\n",
    "print('\\nPerplexity: ', lda_model.log_perplexity(corpus)) # a measure of how good the model is. lower the better.\n",
    " \n",
    "# Compute Coherence Score\n",
    "coherence_model_lda = CoherenceModel(model=lda_model, texts=data_lemmatized, dictionary=id2word, coherence='c_v')\n",
    "coherence_lda = coherence_model_lda.get_coherence()\n",
    "print('\\nCoherence Score: ', coherence_lda)"
   ]
  },
  {
   "cell_type": "code",
   "execution_count": null,
   "metadata": {},
   "outputs": [],
   "source": [
    "model_list, coherence_values = compute_coherence_values(dictionary=id2word, \n",
    "                                                        corpus=corpus, texts=data_lemmatized, \n",
    "                                                        start=2, limit=40, step=6)"
   ]
  },
  {
   "cell_type": "code",
   "execution_count": null,
   "metadata": {},
   "outputs": [],
   "source": [
    "limit=40; start=2; step=6;\n",
    "x = range(start, limit, step)\n",
    "plt.plot(x, coherence_values)\n",
    "plt.xlabel(\"Num Topics\")\n",
    "plt.ylabel(\"Coherence score\")\n",
    "plt.legend((\"coherence_values\"), loc='best')\n",
    "plt.show()"
   ]
  },
  {
   "cell_type": "code",
   "execution_count": null,
   "metadata": {},
   "outputs": [],
   "source": [
    "# Print the coherence scores\n",
    "for m, cv in zip(x, coherence_values):\n",
    "print(\"Num Topics =\", m, \" has Coherence Value of\", round(cv, 4))"
   ]
  },
  {
   "cell_type": "code",
   "execution_count": null,
   "metadata": {},
   "outputs": [],
   "source": [
    "# Select the model and print the topics\n",
    "optimal_model = model_list[!!!!!]\n",
    "model_topics = optimal_model.show_topics(formatted=False)\n",
    "pprint(optimal_model.print_topics(num_words=10))"
   ]
  },
  {
   "cell_type": "code",
   "execution_count": null,
   "metadata": {},
   "outputs": [],
   "source": [
    "def format_topics_sentences(ldamodel=lda_model, corpus=corpus, texts=data):\n",
    "    # Init output\n",
    "    sent_topics_df = pd.DataFrame()\n",
    "\n",
    "    # Get main topic in each document\n",
    "    for , row in enumerate(ldamodel[corpus]):\n",
    "        row = sorted(row, key=lambda x: (x[1]), reverse=True)\n",
    "    # Get the Dominant topic, Perc Contribution and Keywords for each document\n",
    "    for j, (topic_num, prop_topic) in enumerate(row):\n",
    "        if j == 0: # => dominant topic\n",
    "            wp = ldamodel.show_topic(topic_num)\n",
    "            topic_keywords = \", \".join([word for word, prop in wp])\n",
    "            sent_topics_df = sent_topics_df.append(pd.Series([int(topic_num), round(prop_topic,4), topic_keywords]), ignore_index=True)\n",
    "        else:\n",
    "            break\n",
    "    sent_topics_df.columns = ['Dominant_Topic', 'Perc_Contribution', 'Topic_Keywords']\n",
    "\n",
    "    # Add original text to the end of the output\n",
    "    contents = pd.Series(texts)\n",
    "    sent_topics_df = pd.concat([sent_topics_df, contents], axis=1)\n",
    "    return(sent_topics_df)\n",
    " \n",
    "df_topic_sents_keywords = format_topics_sentences(ldamodel=optimal_model, corpus=corpus, texts=data)\n",
    " \n",
    "# Format\n",
    "df_dominant_topic = df_topic_sents_keywords.reset_index()\n",
    "df_dominant_topic.columns = ['Document_No', 'Dominant_Topic', 'Topic_Perc_Contrib', 'Keywords', 'Text']\n",
    " \n",
    "# Show\n",
    "df_dominant_topic.head(10)"
   ]
  },
  {
   "cell_type": "code",
   "execution_count": null,
   "metadata": {},
   "outputs": [],
   "source": [
    "# Group top 5 sentences under each topic\n",
    "sent_topics_sorteddf_mallet = pd.DataFrame()\n",
    " \n",
    "sent_topics_outdf_grpd = df_topic_sents_keywords.groupby('Dominant_Topic')\n",
    " \n",
    "for i, grp in sent_topics_outdf_grpd:\n",
    "sent_topics_sorteddf_mallet = pd.concat([sent_topics_sorteddf_mallet,\n",
    "grp.sort_values(['Perc_Contribution'], ascending=[0]).head(1)],\n",
    "axis=0)\n",
    " \n",
    "# Reset Index\n",
    "sent_topics_sorteddf_mallet.reset_index(drop=True, inplace=True)\n",
    " \n",
    "# Format\n",
    "sent_topics_sorteddf_mallet.columns = ['Topic_Num', \"Topic_Perc_Contrib\", \"Keywords\", \"Text\"]\n",
    " \n",
    "# Show\n",
    "sent_topics_sorteddf_mallet.head()\n"
   ]
  },
  {
   "cell_type": "code",
   "execution_count": null,
   "metadata": {},
   "outputs": [],
   "source": [
    "# Number of Documents for Each Topic\n",
    "topic_counts = df_topic_sents_keywords['Dominant_Topic'].value_counts()\n",
    "\n",
    "# Percentage of Documents for Each Topic\n",
    "topic_contribution = round(topic_counts/topic_counts.sum(), 4)\n",
    "\n",
    "# Topic Number and Keywords\n",
    "topic_num_keywords = df_topic_sents_keywords[['Dominant_Topic', 'Topic_Keywords']]\n",
    "\n",
    "# Concatenate Column wise\n",
    "df_dominant_topics = pd.concat([topic_num_keywords, topic_counts, topic_contribution], axis=1)\n",
    "\n",
    "# Change Column names\n",
    "df_dominant_topics.columns = ['Dominant_Topic', 'Topic_Keywords', 'Num_Documents', 'Perc_Documents']\n",
    "\n",
    "# Show\n",
    "df_dominant_topics"
   ]
  },
  {
   "cell_type": "code",
   "execution_count": null,
   "metadata": {},
   "outputs": [],
   "source": []
  }
 ],
 "metadata": {
  "kernelspec": {
   "display_name": "Python 3",
   "language": "python",
   "name": "python3"
  },
  "language_info": {
   "codemirror_mode": {
    "name": "ipython",
    "version": 3
   },
   "file_extension": ".py",
   "mimetype": "text/x-python",
   "name": "python",
   "nbconvert_exporter": "python",
   "pygments_lexer": "ipython3",
   "version": "3.7.4"
  }
 },
 "nbformat": 4,
 "nbformat_minor": 2
}
