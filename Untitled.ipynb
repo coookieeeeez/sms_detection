{
 "cells": [
  {
   "cell_type": "code",
   "execution_count": 5,
   "metadata": {},
   "outputs": [
    {
     "data": {
      "text/plain": [
       "['흘러내린',\n",
       " '머리카락',\n",
       " '이',\n",
       " '흐린',\n",
       " '호박',\n",
       " '빛',\n",
       " '아래',\n",
       " '빛난다',\n",
       " '.',\n",
       " '유영',\n",
       " '하',\n",
       " '며',\n",
       " '.',\n",
       " '저건가',\n",
       " '보',\n",
       " '다',\n",
       " '.',\n",
       " '세월',\n",
       " '의',\n",
       " '힘',\n",
       " '을',\n",
       " '이겨',\n",
       " '낸',\n",
       " '마지막',\n",
       " '하나',\n",
       " '남',\n",
       " '은',\n",
       " '가로등',\n",
       " '.',\n",
       " '미래',\n",
       " '의',\n",
       " '색',\n",
       " ',',\n",
       " '역겨운',\n",
       " '청록색',\n",
       " '으로',\n",
       " '창백',\n",
       " '하',\n",
       " '게',\n",
       " '바뀔',\n",
       " '마지막',\n",
       " '가로등',\n",
       " '난',\n",
       " '유영',\n",
       " '한다',\n",
       " '.',\n",
       " '차분',\n",
       " '하',\n",
       " '게',\n",
       " '과거',\n",
       " '에',\n",
       " '살',\n",
       " '면서',\n",
       " '현재',\n",
       " '의',\n",
       " '공기',\n",
       " '를',\n",
       " '마신다',\n",
       " '.',\n",
       " '가로등',\n",
       " '이',\n",
       " '깜빡인다',\n",
       " '.',\n",
       " '나',\n",
       " '도',\n",
       " '깜빡',\n",
       " '여',\n",
       " '준다',\n",
       " '.']"
      ]
     },
     "execution_count": 5,
     "metadata": {},
     "output_type": "execute_result"
    }
   ],
   "source": [
    "from eunjeon import Mecab  # KoNLPy style mecab wrapper\n",
    "tagger = Mecab() \n",
    "tagger.nouns(\"고양이가 냐 하고 울면 나는 녜 하고 울어야지\")\n",
    "# 빛 아래 유령\n",
    "poem = \"\"\"\n",
    "흘러내린 머리카락이 흐린 호박빛 아래 빛난다.\n",
    "유영하며.\n",
    "저건가보다.\n",
    "세월의 힘을 이겨낸 마지막 하나 남은 가로등.\n",
    "미래의 색, 역겨운 청록색으로 창백하게 바뀔 마지막 가로등\n",
    "난 유영한다. 차분하게 과거에 살면서 현재의 공기를 마신다.\n",
    "가로등이 깜빡인다.\n",
    "\n",
    "나도 깜빡여준다.\n",
    "\"\"\"\n",
    "tagger.morphs(poem)  # 형태소 단위로 나누기"
   ]
  },
  {
   "cell_type": "code",
   "execution_count": null,
   "metadata": {},
   "outputs": [],
   "source": []
  }
 ],
 "metadata": {
  "kernelspec": {
   "display_name": "Python 3",
   "language": "python",
   "name": "python3"
  },
  "language_info": {
   "codemirror_mode": {
    "name": "ipython",
    "version": 3
   },
   "file_extension": ".py",
   "mimetype": "text/x-python",
   "name": "python",
   "nbconvert_exporter": "python",
   "pygments_lexer": "ipython3",
   "version": "3.7.4"
  }
 },
 "nbformat": 4,
 "nbformat_minor": 2
}
