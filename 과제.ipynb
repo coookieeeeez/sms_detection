{
 "cells": [
  {
   "cell_type": "code",
   "execution_count": 1,
   "metadata": {},
   "outputs": [],
   "source": [
    "stirngs = '이유덕,이재영,권종표,이재영,박민호,강상희,이재영,김지완,최승혁,이성연,박영서,박민호,전경헌,송정환,김재성,이유덕,전경헌'"
   ]
  },
  {
   "cell_type": "code",
   "execution_count": 2,
   "metadata": {},
   "outputs": [],
   "source": [
    "list_s = stirngs.split(\",\")"
   ]
  },
  {
   "cell_type": "code",
   "execution_count": 5,
   "metadata": {},
   "outputs": [
    {
     "data": {
      "text/plain": [
       "['이유덕',\n",
       " '이재영',\n",
       " '권종표',\n",
       " '이재영',\n",
       " '박민호',\n",
       " '강상희',\n",
       " '이재영',\n",
       " '김지완',\n",
       " '최승혁',\n",
       " '이성연',\n",
       " '박영서',\n",
       " '박민호',\n",
       " '전경헌',\n",
       " '송정환',\n",
       " '김재성',\n",
       " '이유덕',\n",
       " '전경헌']"
      ]
     },
     "execution_count": 5,
     "metadata": {},
     "output_type": "execute_result"
    }
   ],
   "source": [
    "list_s"
   ]
  },
  {
   "cell_type": "code",
   "execution_count": 55,
   "metadata": {},
   "outputs": [
    {
     "name": "stdout",
     "output_type": "stream",
     "text": [
      "이유덕\n",
      "이재영\n",
      "이재영\n",
      "이재영\n",
      "김지완\n",
      "이성연\n",
      "김재성\n",
      "이유덕\n",
      "성씨 이, 김은 각각 6, 2 번, 총 8 번 반복됩니다.\n"
     ]
    }
   ],
   "source": [
    "import re \n",
    "p = re.compile('이\\w+')\n",
    "q = re.compile('김\\w+')\n",
    "\n",
    "number_l = 0\n",
    "number_k = 0\n",
    "for i in list_s:\n",
    "    \n",
    "    if p.match(i):\n",
    "        number_l += 1\n",
    "        print(p.match(i).group())\n",
    "    elif q.match(i):\n",
    "        number_k += 1\n",
    "        print(q.match(i).group())\n",
    "        \n",
    "print(\"성씨 {0}, {1}은 각각 {2}, {3} 번, 총 {4} 번 반복됩니다.\".format('이', '김', number_l, number_k, number_l+number_k))"
   ]
  },
  {
   "cell_type": "code",
   "execution_count": 46,
   "metadata": {},
   "outputs": [
    {
     "name": "stdout",
     "output_type": "stream",
     "text": [
      "이재영은 총 3번 반복됩니다.\n"
     ]
    }
   ],
   "source": [
    "target = '이재영'\n",
    "p = re.compile(target)\n",
    "\n",
    "number = 0\n",
    "for i in list_s:\n",
    "    if p.findall(i):\n",
    "        number += 1\n",
    "        \n",
    "print(\"{1}은 총 {0}번 반복됩니다.\".format(number, target))"
   ]
  },
  {
   "cell_type": "code",
   "execution_count": 14,
   "metadata": {},
   "outputs": [
    {
     "data": {
      "text/plain": [
       "{'강상희',\n",
       " '권종표',\n",
       " '김재성',\n",
       " '김지완',\n",
       " '박민호',\n",
       " '박영서',\n",
       " '송정환',\n",
       " '이성연',\n",
       " '이유덕',\n",
       " '이재영',\n",
       " '전경헌',\n",
       " '최승혁'}"
      ]
     },
     "execution_count": 14,
     "metadata": {},
     "output_type": "execute_result"
    }
   ],
   "source": [
    "set_s = set(list_s)\n",
    "set_s"
   ]
  },
  {
   "cell_type": "code",
   "execution_count": 15,
   "metadata": {},
   "outputs": [
    {
     "data": {
      "text/plain": [
       "['강상희',\n",
       " '권종표',\n",
       " '김재성',\n",
       " '김지완',\n",
       " '박민호',\n",
       " '박영서',\n",
       " '송정환',\n",
       " '이성연',\n",
       " '이유덕',\n",
       " '이재영',\n",
       " '전경헌',\n",
       " '최승혁']"
      ]
     },
     "execution_count": 15,
     "metadata": {},
     "output_type": "execute_result"
    }
   ],
   "source": [
    "list_asc = sorted(list(set_s))\n",
    "list_asc"
   ]
  },
  {
   "cell_type": "code",
   "execution_count": 36,
   "metadata": {},
   "outputs": [],
   "source": [
    "def input_number():\n",
    "    global list_number\n",
    "    list_number = []\n",
    "\n",
    "    num = int(input(\"시작할 숫자를 입력해주세요. : \"))\n",
    "    end_num = int(input(\"끝나는 숫자를 입력해주세요. :\"))\n",
    "    space = int(input(\"뺄 숫자를 입력해주세요. :\"))\n",
    "\n",
    "    if num != 0:\n",
    "        for i in range(num,end_num+1):\n",
    "            if i == space:\n",
    "                pass\n",
    "            else:\n",
    "                list_number.append(i)\n",
    "    print(\"list_number 객체가 반환됐습니다.\")\n",
    "    return list_number\n",
    "\n",
    "def make_number(num, end_num, space = None):\n",
    "    global list_number\n",
    "    list_number = []\n",
    "\n",
    "    if num != 0:\n",
    "        for i in range(num,end_num+1):\n",
    "            if i == space:\n",
    "                pass\n",
    "            else:\n",
    "                list_number.append(i)\n",
    "    print(\"list_number 객체가 반환됐습니다.\")\n",
    "    return list_number"
   ]
  },
  {
   "cell_type": "code",
   "execution_count": 25,
   "metadata": {},
   "outputs": [
    {
     "name": "stdout",
     "output_type": "stream",
     "text": [
      "시작할 숫자를 입력해주세요. : 88\n",
      "끝나는 숫자를 입력해주세요. :910\n",
      "뺄 숫자를 입력해주세요. :530\n",
      "88 910 822 410147 410677.0\n"
     ]
    },
    {
     "data": {
      "text/plain": [
       "530"
      ]
     },
     "execution_count": 25,
     "metadata": {},
     "output_type": "execute_result"
    }
   ],
   "source": [
    "start = list_number[0]\n",
    "end = list_number[-1]\n",
    "list_range = end - start\n",
    "number = start\n",
    "hap_list = 0\n",
    "\n",
    "for i in list_number:\n",
    "    hap_list += i\n",
    "    \n",
    "hap = (start + end) * (list_range+1) / 2\n",
    "\n",
    "\n",
    "print(start,end,list_range,hap_list,hap)\n",
    "int(hap - hap_list)"
   ]
  },
  {
   "cell_type": "code",
   "execution_count": 22,
   "metadata": {},
   "outputs": [
    {
     "name": "stdout",
     "output_type": "stream",
     "text": [
      "개수 = 138, 합 = 358631\n"
     ]
    }
   ],
   "source": [
    "number = list(range(2000,3201))\n",
    "count = 0\n",
    "hap = 0\n",
    "for i in number:\n",
    "    if (i % 7 == 0) & (i % 5 != 0):\n",
    "        count += 1 \n",
    "        hap += i\n",
    "\n",
    "print(\"개수 = {0}, 합 = {1}\".format(count, hap))"
   ]
  },
  {
   "cell_type": "code",
   "execution_count": 60,
   "metadata": {},
   "outputs": [],
   "source": [
    "def square_number(start, end):\n",
    "    make_number(start,end)\n",
    "    print(list_number)\n",
    "    result = [i**2 for i in list_number]\n",
    "    return result"
   ]
  },
  {
   "cell_type": "code",
   "execution_count": 61,
   "metadata": {},
   "outputs": [
    {
     "name": "stdout",
     "output_type": "stream",
     "text": [
      "list_number 객체가 반환됐습니다.\n",
      "[1, 2, 3, 4, 5]\n"
     ]
    },
    {
     "data": {
      "text/plain": [
       "[1, 4, 9, 16, 25]"
      ]
     },
     "execution_count": 61,
     "metadata": {},
     "output_type": "execute_result"
    }
   ],
   "source": [
    "square_number(1,5)"
   ]
  },
  {
   "cell_type": "code",
   "execution_count": 65,
   "metadata": {},
   "outputs": [
    {
     "name": "stdout",
     "output_type": "stream",
     "text": [
      "list_number 객체가 반환됐습니다.\n",
      "[1, 2, 3, 4, 5]\n"
     ]
    },
    {
     "data": {
      "text/plain": [
       "[[1, 4, 9, 16, 25]]"
      ]
     },
     "execution_count": 65,
     "metadata": {},
     "output_type": "execute_result"
    }
   ],
   "source": [
    "list(map(square_number, [1],[5]))\n"
   ]
  },
  {
   "cell_type": "code",
   "execution_count": 89,
   "metadata": {},
   "outputs": [
    {
     "name": "stdout",
     "output_type": "stream",
     "text": [
      "5\n"
     ]
    },
    {
     "data": {
      "text/plain": [
       "{1: 1, 2: 4, 3: 9, 4: 16, 5: 25}"
      ]
     },
     "execution_count": 89,
     "metadata": {},
     "output_type": "execute_result"
    }
   ],
   "source": [
    "end = int(input())\n",
    "\n",
    "key = list(range(1,end+1))\n",
    "data = [i**2 for i in key]\n",
    "dict_sqaure = dict()\n",
    "for i,j in zip(key,data):\n",
    "    dict_sqaure[i] = j\n",
    "# for i,j in zip(key,data):\n",
    "#     dict_sqaure = dict_sqaure + {i:j}\n",
    "dict_sqaure"
   ]
  },
  {
   "cell_type": "code",
   "execution_count": 82,
   "metadata": {},
   "outputs": [
    {
     "name": "stdout",
     "output_type": "stream",
     "text": [
      "Help on class dict in module builtins:\n",
      "\n",
      "class dict(object)\n",
      " |  dict() -> new empty dictionary\n",
      " |  dict(mapping) -> new dictionary initialized from a mapping object's\n",
      " |      (key, value) pairs\n",
      " |  dict(iterable) -> new dictionary initialized as if via:\n",
      " |      d = {}\n",
      " |      for k, v in iterable:\n",
      " |          d[k] = v\n",
      " |  dict(**kwargs) -> new dictionary initialized with the name=value pairs\n",
      " |      in the keyword argument list.  For example:  dict(one=1, two=2)\n",
      " |  \n",
      " |  Methods defined here:\n",
      " |  \n",
      " |  __contains__(self, key, /)\n",
      " |      True if the dictionary has the specified key, else False.\n",
      " |  \n",
      " |  __delitem__(self, key, /)\n",
      " |      Delete self[key].\n",
      " |  \n",
      " |  __eq__(self, value, /)\n",
      " |      Return self==value.\n",
      " |  \n",
      " |  __ge__(self, value, /)\n",
      " |      Return self>=value.\n",
      " |  \n",
      " |  __getattribute__(self, name, /)\n",
      " |      Return getattr(self, name).\n",
      " |  \n",
      " |  __getitem__(...)\n",
      " |      x.__getitem__(y) <==> x[y]\n",
      " |  \n",
      " |  __gt__(self, value, /)\n",
      " |      Return self>value.\n",
      " |  \n",
      " |  __init__(self, /, *args, **kwargs)\n",
      " |      Initialize self.  See help(type(self)) for accurate signature.\n",
      " |  \n",
      " |  __iter__(self, /)\n",
      " |      Implement iter(self).\n",
      " |  \n",
      " |  __le__(self, value, /)\n",
      " |      Return self<=value.\n",
      " |  \n",
      " |  __len__(self, /)\n",
      " |      Return len(self).\n",
      " |  \n",
      " |  __lt__(self, value, /)\n",
      " |      Return self<value.\n",
      " |  \n",
      " |  __ne__(self, value, /)\n",
      " |      Return self!=value.\n",
      " |  \n",
      " |  __repr__(self, /)\n",
      " |      Return repr(self).\n",
      " |  \n",
      " |  __setitem__(self, key, value, /)\n",
      " |      Set self[key] to value.\n",
      " |  \n",
      " |  __sizeof__(...)\n",
      " |      D.__sizeof__() -> size of D in memory, in bytes\n",
      " |  \n",
      " |  clear(...)\n",
      " |      D.clear() -> None.  Remove all items from D.\n",
      " |  \n",
      " |  copy(...)\n",
      " |      D.copy() -> a shallow copy of D\n",
      " |  \n",
      " |  get(self, key, default=None, /)\n",
      " |      Return the value for key if key is in the dictionary, else default.\n",
      " |  \n",
      " |  items(...)\n",
      " |      D.items() -> a set-like object providing a view on D's items\n",
      " |  \n",
      " |  keys(...)\n",
      " |      D.keys() -> a set-like object providing a view on D's keys\n",
      " |  \n",
      " |  pop(...)\n",
      " |      D.pop(k[,d]) -> v, remove specified key and return the corresponding value.\n",
      " |      If key is not found, d is returned if given, otherwise KeyError is raised\n",
      " |  \n",
      " |  popitem(...)\n",
      " |      D.popitem() -> (k, v), remove and return some (key, value) pair as a\n",
      " |      2-tuple; but raise KeyError if D is empty.\n",
      " |  \n",
      " |  setdefault(self, key, default=None, /)\n",
      " |      Insert key with a value of default if key is not in the dictionary.\n",
      " |      \n",
      " |      Return the value for key if key is in the dictionary, else default.\n",
      " |  \n",
      " |  update(...)\n",
      " |      D.update([E, ]**F) -> None.  Update D from dict/iterable E and F.\n",
      " |      If E is present and has a .keys() method, then does:  for k in E: D[k] = E[k]\n",
      " |      If E is present and lacks a .keys() method, then does:  for k, v in E: D[k] = v\n",
      " |      In either case, this is followed by: for k in F:  D[k] = F[k]\n",
      " |  \n",
      " |  values(...)\n",
      " |      D.values() -> an object providing a view on D's values\n",
      " |  \n",
      " |  ----------------------------------------------------------------------\n",
      " |  Class methods defined here:\n",
      " |  \n",
      " |  fromkeys(iterable, value=None, /) from builtins.type\n",
      " |      Create a new dictionary with keys from iterable and values set to value.\n",
      " |  \n",
      " |  ----------------------------------------------------------------------\n",
      " |  Static methods defined here:\n",
      " |  \n",
      " |  __new__(*args, **kwargs) from builtins.type\n",
      " |      Create and return a new object.  See help(type) for accurate signature.\n",
      " |  \n",
      " |  ----------------------------------------------------------------------\n",
      " |  Data and other attributes defined here:\n",
      " |  \n",
      " |  __hash__ = None\n",
      "\n"
     ]
    }
   ],
   "source": [
    "help(dict)"
   ]
  },
  {
   "cell_type": "code",
   "execution_count": null,
   "metadata": {},
   "outputs": [],
   "source": []
  }
 ],
 "metadata": {
  "kernelspec": {
   "display_name": "Python 3",
   "language": "python",
   "name": "python3"
  },
  "language_info": {
   "codemirror_mode": {
    "name": "ipython",
    "version": 3
   },
   "file_extension": ".py",
   "mimetype": "text/x-python",
   "name": "python",
   "nbconvert_exporter": "python",
   "pygments_lexer": "ipython3",
   "version": "3.7.4"
  }
 },
 "nbformat": 4,
 "nbformat_minor": 2
}
